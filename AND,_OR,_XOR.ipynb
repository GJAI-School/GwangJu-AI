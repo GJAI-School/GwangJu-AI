{
  "nbformat": 4,
  "nbformat_minor": 0,
  "metadata": {
    "colab": {
      "name": "AND, OR, XOR.ipynb",
      "provenance": [],
      "collapsed_sections": [],
      "authorship_tag": "ABX9TyPFZtwQPm1cgsqdL6+jOAE5",
      "include_colab_link": true
    },
    "kernelspec": {
      "name": "python3",
      "display_name": "Python 3"
    }
  },
  "cells": [
    {
      "cell_type": "markdown",
      "metadata": {
        "id": "view-in-github",
        "colab_type": "text"
      },
      "source": [
        "<a href=\"https://colab.research.google.com/github/cromatical/GwangJu-AI/blob/master/AND%2C_OR%2C_XOR.ipynb\" target=\"_parent\"><img src=\"https://colab.research.google.com/assets/colab-badge.svg\" alt=\"Open In Colab\"/></a>"
      ]
    },
    {
      "cell_type": "code",
      "metadata": {
        "id": "LYpLHhj95Y-y",
        "colab_type": "code",
        "colab": {}
      },
      "source": [
        "import tensorflow as tf\n",
        "tf.compat.v1.set_random_seed(2020)\n",
        "\n",
        "import math\n",
        "\n",
        "def sigmoid(x):\n",
        "  return 1 / (1 + math.exp(-x))"
      ],
      "execution_count": 0,
      "outputs": []
    },
    {
      "cell_type": "code",
      "metadata": {
        "id": "_YV3ydn05kYe",
        "colab_type": "code",
        "colab": {
          "base_uri": "https://localhost:8080/",
          "height": 35
        },
        "outputId": "30dc28e9-8746-4588-d00c-74be891dd7ed"
      },
      "source": [
        "output = sigmoid(x * w)\n",
        "print(output)"
      ],
      "execution_count": 4,
      "outputs": [
        {
          "output_type": "stream",
          "text": [
            "0.47477188589261\n"
          ],
          "name": "stdout"
        }
      ]
    },
    {
      "cell_type": "code",
      "metadata": {
        "id": "TybqQcAS6DzZ",
        "colab_type": "code",
        "colab": {
          "base_uri": "https://localhost:8080/",
          "height": 197
        },
        "outputId": "142a0fd8-2cbd-46df-dcba-c61c15e0afdb"
      },
      "source": [
        "x = 1\n",
        "y = 0\n",
        "w = tf.random.normal([1], 0, 1)\n",
        "\n",
        "for i in range(1000):\n",
        "  output = sigmoid(x*w)\n",
        "  error = y - output \n",
        "  w = w + x * 0.1 * error # 경사하강법 , 학습률 : 가중치 조정을 위한 하이퍼파라미터\n",
        "\n",
        "  if i % 100 == 99:\n",
        "    print(\"학습횟수:\", i, \"Error:\", error, \"예측결과:\", output)"
      ],
      "execution_count": 5,
      "outputs": [
        {
          "output_type": "stream",
          "text": [
            "학습횟수: 99 Error: -0.10010598284299604 예측결과: 0.10010598284299604\n",
            "학습횟수: 199 Error: -0.05178399422833116 예측결과: 0.05178399422833116\n",
            "학습횟수: 299 Error: -0.034590451977903586 예측결과: 0.034590451977903586\n",
            "학습횟수: 399 Error: -0.02588962752851373 예측결과: 0.02588962752851373\n",
            "학습횟수: 499 Error: -0.020658699939863617 예측결과: 0.020658699939863617\n",
            "학습횟수: 599 Error: -0.017174253993457355 예측결과: 0.017174253993457355\n",
            "학습횟수: 699 Error: -0.014689506449480992 예측결과: 0.014689506449480992\n",
            "학습횟수: 799 Error: -0.012829497265431342 예측결과: 0.012829497265431342\n",
            "학습횟수: 899 Error: -0.011385568271837804 예측결과: 0.011385568271837804\n",
            "학습횟수: 999 Error: -0.010232493309882492 예측결과: 0.010232493309882492\n"
          ],
          "name": "stdout"
        }
      ]
    },
    {
      "cell_type": "code",
      "metadata": {
        "id": "f7ad_zNO6tZn",
        "colab_type": "code",
        "colab": {
          "base_uri": "https://localhost:8080/",
          "height": 197
        },
        "outputId": "3c5c1200-e22b-4b68-e9c3-5513a7f0a314"
      },
      "source": [
        "x = 0\n",
        "y = 1\n",
        "w = tf.random.normal([1], 0, 1)\n",
        " \n",
        "# 입력값에 0이 들어갔기 때문에 어떠한 값을 넣어도 이후 가중치에 더해지는 값이 없다.\n",
        "# 이를 방지하고자 편향(b)값이 들어간다.\n",
        "\n",
        "for i in range(1000):\n",
        "  output = sigmoid(x*w)\n",
        "  error = y - output \n",
        "  w = w + x * 0.1 * error \n",
        "\n",
        "\n",
        "  if i % 100 == 99:\n",
        "    print(\"학습횟수:\", i, \"Error:\", error, \"예측결과:\", output)"
      ],
      "execution_count": 6,
      "outputs": [
        {
          "output_type": "stream",
          "text": [
            "학습횟수: 99 Error: 0.5 예측결과: 0.5\n",
            "학습횟수: 199 Error: 0.5 예측결과: 0.5\n",
            "학습횟수: 299 Error: 0.5 예측결과: 0.5\n",
            "학습횟수: 399 Error: 0.5 예측결과: 0.5\n",
            "학습횟수: 499 Error: 0.5 예측결과: 0.5\n",
            "학습횟수: 599 Error: 0.5 예측결과: 0.5\n",
            "학습횟수: 699 Error: 0.5 예측결과: 0.5\n",
            "학습횟수: 799 Error: 0.5 예측결과: 0.5\n",
            "학습횟수: 899 Error: 0.5 예측결과: 0.5\n",
            "학습횟수: 999 Error: 0.5 예측결과: 0.5\n"
          ],
          "name": "stdout"
        }
      ]
    },
    {
      "cell_type": "code",
      "metadata": {
        "id": "VCIqYqML7HLj",
        "colab_type": "code",
        "colab": {
          "base_uri": "https://localhost:8080/",
          "height": 197
        },
        "outputId": "48a68977-651f-4b54-a880-33414ca75345"
      },
      "source": [
        "x = 0\n",
        "y = 1\n",
        "w = tf.random.normal([1], 0, 1)\n",
        "b = tf.random.normal([1], 0, 1)\n",
        " \n",
        "# 입력값에 0이 들어갔기 때문에 어떠한 값을 넣어도 이후 가중치에 더해지는 값이 없다.\n",
        "# 이를 방지하고자 편향(b)값이 들어간다.\n",
        "\n",
        "for i in range(1000):\n",
        "  output = sigmoid(x * w + 1 * b)\n",
        "  error = y - output \n",
        "  w = w + x * 0.1 * error\n",
        "  b = b + 1 * 0.1 * error \n",
        "\n",
        "\n",
        "  if i % 100 == 99:\n",
        "    print(\"학습횟수:\", i, \"Error:\", error, \"예측결과:\", output)"
      ],
      "execution_count": 7,
      "outputs": [
        {
          "output_type": "stream",
          "text": [
            "학습횟수: 99 Error: 0.11238258794086264 예측결과: 0.8876174120591374\n",
            "학습횟수: 199 Error: 0.055071863836639534 예측결과: 0.9449281361633605\n",
            "학습횟수: 299 Error: 0.036054548409353404 예측결과: 0.9639454515906466\n",
            "학습횟수: 399 Error: 0.026708631840398844 예측결과: 0.9732913681596012\n",
            "학습횟수: 499 Error: 0.02117969038866041 예측결과: 0.9788203096113396\n",
            "학습횟수: 599 Error: 0.017534051963307373 예측결과: 0.9824659480366926\n",
            "학습횟수: 699 Error: 0.01495259801362292 예측결과: 0.9850474019863771\n",
            "학습횟수: 799 Error: 0.013030120422014457 예측결과: 0.9869698795779855\n",
            "학습횟수: 899 Error: 0.011543493497685131 예측결과: 0.9884565065023149\n",
            "학습횟수: 999 Error: 0.01036000375513546 예측결과: 0.9896399962448645\n"
          ],
          "name": "stdout"
        }
      ]
    },
    {
      "cell_type": "markdown",
      "metadata": {
        "id": "97lI0UcI7teM",
        "colab_type": "text"
      },
      "source": [
        "### AND연산자"
      ]
    },
    {
      "cell_type": "code",
      "metadata": {
        "id": "-mCFa0yj7s_T",
        "colab_type": "code",
        "colab": {}
      },
      "source": [
        "import numpy as np\n",
        "x = np.array([[1,1], [1,0], [0,1], [0,0]])\n",
        "y = np.array([[1], [0], [0], [0]])\n",
        "w = tf.random.normal([2], 0, 1)\n",
        "b = tf.random.normal([1], 0, 1)\n",
        "b_x = 1\n",
        "\n",
        "for i in range(2000):\n",
        "  error_sum = 0\n",
        "  for j in range(4):\n",
        "    output = sigmoid(np.sum(x[j]*w) + b_x*b)\n",
        "    error = y[j][0] * 0.1 * error\n",
        "    w = w + x[j] * 0.1 * error\n",
        "    b = b + b_x *0.1 *error\n",
        "    error_sum+=error\n",
        "  \n",
        "  for i in range(4):\n",
        "    print('x:', x[i], 'y:',y[i], 'output:', sigmoid(np.sum(x[i]*w)+b))"
      ],
      "execution_count": 0,
      "outputs": []
    },
    {
      "cell_type": "markdown",
      "metadata": {
        "id": "fI3RH1tX-E1R",
        "colab_type": "text"
      },
      "source": [
        "### OR연산자"
      ]
    },
    {
      "cell_type": "code",
      "metadata": {
        "id": "EdBo45zD-FGm",
        "colab_type": "code",
        "colab": {}
      },
      "source": [
        "import numpy as np\n",
        "x = np.array([[1,1], [1,0], [0,1], [0,0]])\n",
        "y = np.array([[0], [1], [1], [1]])\n",
        "w = tf.random.normal([2], 0, 1)\n",
        "b = tf.random.normal([1], 0, 1)\n",
        "b_x = 1\n",
        "\n",
        "for i in range(2000):\n",
        "  error_sum = 0\n",
        "  for j in range(4):\n",
        "    output = sigmoid(np.sum(x[j]*w) + b_x*b)\n",
        "    error = y[j][0] * 0.1 * error\n",
        "    w = w + x[j] * 0.1 * error\n",
        "    b = b + b_x *0.1 *error\n",
        "    error_sum+=error\n",
        "  \n",
        "  for i in range(4):\n",
        "    print('x:', x[i], 'y:',y[i], 'output:', sigmoid(np.sum(x[i]*w)+b))"
      ],
      "execution_count": 0,
      "outputs": []
    },
    {
      "cell_type": "markdown",
      "metadata": {
        "id": "cqbRN4Np-FQb",
        "colab_type": "text"
      },
      "source": [
        "### XOR연산자"
      ]
    },
    {
      "cell_type": "code",
      "metadata": {
        "id": "uq_0R84e-FX_",
        "colab_type": "code",
        "colab": {}
      },
      "source": [
        "import numpy as np\n",
        "x = np.array([[1,1], [1,0], [0,1], [0,0]])\n",
        "y = np.array([[0], [1], [1], [0]])\n",
        "w = tf.random.normal([2], 0, 1)\n",
        "b = tf.random.normal([1], 0, 1)\n",
        "b_x = 1\n",
        "\n",
        "for i in range(2000):\n",
        "  error_sum = 0\n",
        "  for j in range(4):\n",
        "    output = sigmoid(np.sum(x[j]*w) + b_x*b)\n",
        "    error = y[j][0] * 0.1 * error\n",
        "    w = w + x[j] * 0.1 * error\n",
        "    b = b + b_x *0.1 *error\n",
        "    error_sum+=error\n",
        "  \n",
        "  for i in range(4):\n",
        "    print('x:', x[i], 'y:',y[i], 'output:', sigmoid(np.sum(x[i]*w)+b))"
      ],
      "execution_count": 0,
      "outputs": []
    }
  ]
}