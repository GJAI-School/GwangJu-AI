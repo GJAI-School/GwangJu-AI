{
  "nbformat": 4,
  "nbformat_minor": 0,
  "metadata": {
    "colab": {
      "name": "2주차5강.ipynb",
      "provenance": [],
      "collapsed_sections": [],
      "authorship_tag": "ABX9TyPlS2GYYY788P8Cgv7155ue",
      "include_colab_link": true
    },
    "kernelspec": {
      "name": "python3",
      "display_name": "Python 3"
    }
  },
  "cells": [
    {
      "cell_type": "markdown",
      "metadata": {
        "id": "view-in-github",
        "colab_type": "text"
      },
      "source": [
        "<a href=\"https://colab.research.google.com/github/cromatical/GwangJu-AI/blob/master/2%EC%A3%BC%EC%B0%A85%EA%B0%95.ipynb\" target=\"_parent\"><img src=\"https://colab.research.google.com/assets/colab-badge.svg\" alt=\"Open In Colab\"/></a>"
      ]
    },
    {
      "cell_type": "markdown",
      "metadata": {
        "id": "fqGWnCsygpdg",
        "colab_type": "text"
      },
      "source": [
        "# 평균, 중앙값, 최빈값\n",
        "\n"
      ]
    },
    {
      "cell_type": "code",
      "metadata": {
        "id": "UZtTX4k5gih2",
        "colab_type": "code",
        "colab": {}
      },
      "source": [
        "import numpy as np\n",
        "from scipy import stats\n",
        "import matplotlib.pyplot as plt"
      ],
      "execution_count": 0,
      "outputs": []
    },
    {
      "cell_type": "code",
      "metadata": {
        "id": "3Nb2ZRvy7_aa",
        "colab_type": "code",
        "colab": {}
      },
      "source": [
        "np.random.seed(0) # 통제가능 제한적 공간을 나타냄"
      ],
      "execution_count": 0,
      "outputs": []
    },
    {
      "cell_type": "code",
      "metadata": {
        "id": "ZgpF1UCV8YKm",
        "colab_type": "code",
        "colab": {}
      },
      "source": [
        "data_A = np.random.randint(0, 100, 10000) # 분포를 이룰 무작위 데이터 생성"
      ],
      "execution_count": 0,
      "outputs": []
    },
    {
      "cell_type": "code",
      "metadata": {
        "id": "4L9bofZZWXSW",
        "colab_type": "code",
        "colab": {
          "base_uri": "https://localhost:8080/",
          "height": 71
        },
        "outputId": "fa36ffcc-8976-4652-eaf3-ddf3f3a689cb"
      },
      "source": [
        "mean = np.mean(data_A)\n",
        "median = np.median(data_A)\n",
        "mode = stats.mode(data_A)\n",
        "\n",
        "print(\"평균 : \", mean.round(2))\n",
        "print(\"중앙값 : \", median)\n",
        "print(\"최빈값 : {} ({})\".format(mode[0][0], mode[1][0]) ) # mode[0][0] : 숫자, mode[1][0] : 개수"
      ],
      "execution_count": 5,
      "outputs": [
        {
          "output_type": "stream",
          "text": [
            "평균 :  49.67\n",
            "중앙값 :  50.0\n",
            "최빈값 : 60 (131)\n"
          ],
          "name": "stdout"
        }
      ]
    },
    {
      "cell_type": "code",
      "metadata": {
        "id": "I5KAE-LacCtJ",
        "colab_type": "code",
        "colab": {
          "base_uri": "https://localhost:8080/",
          "height": 53
        },
        "outputId": "c0b546c5-6b5e-4839-9c72-32259850fa4d"
      },
      "source": [
        "data_A_var = np.var(data_A)\n",
        "data_A_std = np.std(data_A)\n",
        "\n",
        "print(\"분산 : \", data_A_var.round(2)) \n",
        "print(\"표준편차 : \", data_A_std.round(2))"
      ],
      "execution_count": 19,
      "outputs": [
        {
          "output_type": "stream",
          "text": [
            "분산 :  835.7\n",
            "표준편차 :  28.91\n"
          ],
          "name": "stdout"
        }
      ]
    },
    {
      "cell_type": "code",
      "metadata": {
        "id": "AMdPEUBZXTGT",
        "colab_type": "code",
        "colab": {}
      },
      "source": [
        "data_B = np.random.normal(size=100) # 정규분포를 이룰 무작위 데이터 생성"
      ],
      "execution_count": 0,
      "outputs": []
    },
    {
      "cell_type": "code",
      "metadata": {
        "id": "Y5gda_ubXdiU",
        "colab_type": "code",
        "colab": {
          "base_uri": "https://localhost:8080/",
          "height": 71
        },
        "outputId": "0b290639-3852-4ae9-81cc-df9b6e99a3ec"
      },
      "source": [
        "mean = np.mean(data_B)\n",
        "median = np.median(data_B)\n",
        "mode = stats.mode(data_B)\n",
        "\n",
        "print(\"평균 : \", mean.round(2))\n",
        "print(\"중앙값 : \", median)\n",
        "print(\"최빈값 : {} ({})\".format(mode[0][0], mode[1][0]) )"
      ],
      "execution_count": 8,
      "outputs": [
        {
          "output_type": "stream",
          "text": [
            "평균 :  0.12\n",
            "중앙값 :  0.13860997634643413\n",
            "최빈값 : -1.9520087759798312 (1)\n"
          ],
          "name": "stdout"
        }
      ]
    },
    {
      "cell_type": "markdown",
      "metadata": {
        "id": "CLbhjmHEgztR",
        "colab_type": "text"
      },
      "source": [
        "# 사분위수"
      ]
    },
    {
      "cell_type": "code",
      "metadata": {
        "id": "um72tHwZg9QL",
        "colab_type": "code",
        "colab": {}
      },
      "source": [
        "import pandas as pd\n",
        "\n",
        "store_a = pd.Series([20,21,23,22,26,28,33,35,35,41,42,43,45,44,45,46,47,47,46,47,58,58,59,60,56,57,57,80])\n",
        "store_b = pd.Series([5,6,11,13,15,20,2,0,21,23,22,27,27,30,30,32,36,37,37,40,40,43,44,45,51,54,70,60])"
      ],
      "execution_count": 0,
      "outputs": []
    },
    {
      "cell_type": "code",
      "metadata": {
        "id": "PobBh-_rhcxh",
        "colab_type": "code",
        "colab": {
          "base_uri": "https://localhost:8080/",
          "height": 197
        },
        "outputId": "5a3ab505-6e3d-460f-c948-962aa967e016"
      },
      "source": [
        "A_Q1 = store_a.quantile(0.25) ; print(\"1사분위수 : \", A_Q1)\n",
        "A_Q2 = store_a.quantile(0.50) ; print(\"2사분위수 : \", A_Q2)\n",
        "A_Q3 = store_a.quantile(0.75) ; print(\"3사분위수 : \", A_Q3)\n",
        "A_Q4 = store_a.quantile(1) ; print(\"4사분위수 : \", A_Q4,'\\n')\n",
        "\n",
        "B_Q1 = store_b.quantile(0.25) ; print(\"1사분위수 : \", B_Q1)\n",
        "B_Q2 = store_b.quantile(0.50) ; print(\"2사분위수 : \", B_Q2)\n",
        "B_Q3 = store_b.quantile(0.75) ; print(\"3사분위수 : \", B_Q3)\n",
        "B_Q4 = store_b.quantile(1) ; print(\"4사분위수 : \", B_Q4,'\\n')"
      ],
      "execution_count": 31,
      "outputs": [
        {
          "output_type": "stream",
          "text": [
            "1사분위수 :  34.5\n",
            "2사분위수 :  45.0\n",
            "3사분위수 :  56.25\n",
            "4사분위수 :  80.0 \n",
            "\n",
            "1사분위수 :  18.75\n",
            "2사분위수 :  30.0\n",
            "3사분위수 :  40.75\n",
            "4사분위수 :  600.0 \n",
            "\n"
          ],
          "name": "stdout"
        }
      ]
    },
    {
      "cell_type": "code",
      "metadata": {
        "id": "tCmhg3c1ikvm",
        "colab_type": "code",
        "colab": {
          "base_uri": "https://localhost:8080/",
          "height": 265
        },
        "outputId": "3be09861-10ba-428c-e9b4-9d47eab9b1f9"
      },
      "source": [
        "plt.boxplot((store_a, store_b))\n",
        "plt.grid()\n",
        "plt.show()"
      ],
      "execution_count": 34,
      "outputs": [
        {
          "output_type": "display_data",
          "data": {
            "image/png": "[encoded data removed]",
            "text/plain": [
              "<Figure size 432x288 with 1 Axes>"
            ]
          },
          "metadata": {
            "tags": [],
            "needs_background": "light"
          }
        }
      ]
    },
    {
      "cell_type": "code",
      "metadata": {
        "id": "o-VZDSXEi61B",
        "colab_type": "code",
        "colab": {
          "base_uri": "https://localhost:8080/",
          "height": 265
        },
        "outputId": "e01671c4-4107-4cd7-8cdb-35dcb0c6b5e4"
      },
      "source": [
        "plt.boxplot((store_a, store_b))\n",
        "plt.grid()\n",
        "plt.show()"
      ],
      "execution_count": 36,
      "outputs": [
        {
          "output_type": "display_data",
          "data": {
            "image/png": "[encoded data removed]",
            "text/plain": [
              "<Figure size 432x288 with 1 Axes>"
            ]
          },
          "metadata": {
            "tags": [],
            "needs_background": "light"
          }
        }
      ]
    },
    {
      "cell_type": "code",
      "metadata": {
        "id": "VVdGFGiRjFbj",
        "colab_type": "code",
        "colab": {
          "base_uri": "https://localhost:8080/",
          "height": 337
        },
        "outputId": "91ff6676-dd28-49a7-a76b-9c1c3c71bcc9"
      },
      "source": [
        "box_num = pd.Series([16,21,22,23,24,25,30])\n",
        "\n",
        "Q1 = box_num.quantile(0.25) ; print(\"1사분위수 : \", Q1)\n",
        "Q2 = box_num.quantile(0.50) ; print(\"2사분위수 : \", Q2)\n",
        "Q3 = box_num.quantile(0.75) ; print(\"3사분위수 : \", Q3)\n",
        "Q4 = box_num.quantile(1) ; print(\"4사분위수 : \", Q4)\n",
        "\n",
        "plt.boxplot(box_num)\n",
        "plt.grid()\n",
        "plt.show()"
      ],
      "execution_count": 39,
      "outputs": [
        {
          "output_type": "stream",
          "text": [
            "1사분위수 :  21.5\n",
            "2사분위수 :  23.0\n",
            "3사분위수 :  24.5\n",
            "4사분위수 :  30.0\n"
          ],
          "name": "stdout"
        },
        {
          "output_type": "display_data",
          "data": {
            "image/png": "[encoded data removed]",
            "text/plain": [
              "<Figure size 432x288 with 1 Axes>"
            ]
          },
          "metadata": {
            "tags": [],
            "needs_background": "light"
          }
        }
      ]
    },
    {
      "cell_type": "code",
      "metadata": {
        "id": "8MgBTsf-jSVr",
        "colab_type": "code",
        "colab": {
          "base_uri": "https://localhost:8080/",
          "height": 53
        },
        "outputId": "f58926f6-4bf6-4512-ba4d-f25aef84a184"
      },
      "source": [
        "IQR = Q3-Q1\n",
        "print(\"IQR : \", IQR)\n",
        "STEP1 = IQR*1.5\n",
        "print(\"STEP1 : \", STEP1)"
      ],
      "execution_count": 40,
      "outputs": [
        {
          "output_type": "stream",
          "text": [
            "IQR :  3.0\n",
            "STEP1 :  4.5\n"
          ],
          "name": "stdout"
        }
      ]
    },
    {
      "cell_type": "code",
      "metadata": {
        "id": "wSZDvna0jy7V",
        "colab_type": "code",
        "colab": {
          "base_uri": "https://localhost:8080/",
          "height": 53
        },
        "outputId": "c71c1e2b-e9d8-4037-d212-33a10338ecf2"
      },
      "source": [
        "lower_fense = Q1 - STEP1\n",
        "print(lower_fense)\n",
        "upper_fense = Q3 + STEP1\n",
        "print(upper_fense)"
      ],
      "execution_count": 42,
      "outputs": [
        {
          "output_type": "stream",
          "text": [
            "17.0\n",
            "29.0\n"
          ],
          "name": "stdout"
        }
      ]
    }
  ]
}
