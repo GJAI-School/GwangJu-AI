{
 "cells": [
  {
   "cell_type": "markdown",
   "metadata": {},
   "source": [
    "#### Excel 스프레드시트 컨트롤:"
   ]
  },
  {
   "cell_type": "code",
   "execution_count": 1,
   "metadata": {},
   "outputs": [],
   "source": [
    "# 필요한 패키지를 불러온다.\n",
    "import openpyxl\n",
    "import os\n",
    "os.chdir(r'C:\\Users\\MyLaptop\\Documents\\Jupyter notebook\\AI school\\파이썬실습\\data')"
   ]
  },
  {
   "cell_type": "code",
   "execution_count": 2,
   "metadata": {},
   "outputs": [
    {
     "data": {
      "text/plain": [
       "['Sheet1', 'Sheet2', 'Sheet3']"
      ]
     },
     "execution_count": 2,
     "metadata": {},
     "output_type": "execute_result"
    }
   ],
   "source": [
    "wb = openpyxl.load_workbook('my_excel.xlsx')      # Workbook을 객체로 가져옴.\n",
    "wb.sheetnames                                     # Sheet이름을 list로 가져옴."
   ]
  },
  {
   "cell_type": "code",
   "execution_count": 3,
   "metadata": {},
   "outputs": [
    {
     "name": "stdout",
     "output_type": "stream",
     "text": [
      "123\n",
      "123\n",
      "123\n"
     ]
    }
   ],
   "source": [
    "sh = wb['Sheet1']                                 # Sheet1을 객체로 가져옴.\n",
    "cl = sh['A1']                                     # 'A1' Cell 객체.\n",
    "print(cl.value)            \n",
    "print(sh['A1'].value)                             # A1셀의 값을 가져오기.\n",
    "print(sh.cell(1,1).value)                         # 행과 열의 위치로 값을 가져오기."
   ]
  },
  {
   "cell_type": "code",
   "execution_count": 4,
   "metadata": {},
   "outputs": [
    {
     "name": "stdout",
     "output_type": "stream",
     "text": [
      "123\n",
      "456\n",
      "789\n",
      "1122\n",
      "1455\n",
      "1788\n",
      "2121\n",
      "2454\n",
      "2787\n",
      "3120\n"
     ]
    }
   ],
   "source": [
    "# 여러 셀에서 값을 가져와서 출력해 본다.\n",
    "for i in range(1,11):\n",
    "     print(sh.cell(i,1).value )"
   ]
  },
  {
   "cell_type": "code",
   "execution_count": 11,
   "metadata": {},
   "outputs": [
    {
     "name": "stdout",
     "output_type": "stream",
     "text": [
      "['Sheet']\n"
     ]
    }
   ],
   "source": [
    "# 새롭게 워크북을 생성한다.\n",
    "my_wb = openpyxl.Workbook()           # 메모리 안에서만 존재.\n",
    "print(my_wb.sheetnames)               # 신규 워크북에는 'Sheet'만 있음."
   ]
  },
  {
   "cell_type": "code",
   "execution_count": 12,
   "metadata": {},
   "outputs": [
    {
     "name": "stdout",
     "output_type": "stream",
     "text": [
      "['MySheet2', 'MySheet1']\n"
     ]
    }
   ],
   "source": [
    "my_sh = my_wb['Sheet']                  \n",
    "my_sh['A1'].value = 999                  # 새로운 값 대입.\n",
    "my_sh['A2'] = 666                        # OK.\n",
    "my_sh.title = 'MySheet1'\n",
    "my_sh2 = my_wb.create_sheet(index = 0, title = 'MySheet2')\n",
    "my_sh2['A1'].value = 777                 # 새로운 값 대입.\n",
    "my_sh2['A2'].value = 999                 # 새로운 값 대입.\n",
    "print(my_wb.sheetnames)"
   ]
  },
  {
   "cell_type": "code",
   "execution_count": 13,
   "metadata": {},
   "outputs": [],
   "source": [
    "# 메모리 안에 있는 워크북을 저장한다.\n",
    "my_wb.save('my_new_excel.xlsx')"
   ]
  }
 ],
 "metadata": {
  "kernelspec": {
   "display_name": "Python 3",
   "language": "python",
   "name": "python3"
  },
  "language_info": {
   "codemirror_mode": {
    "name": "ipython",
    "version": 3
   },
   "file_extension": ".py",
   "mimetype": "text/x-python",
   "name": "python",
   "nbconvert_exporter": "python",
   "pygments_lexer": "ipython3",
   "version": "3.7.6"
  }
 },
 "nbformat": 4,
 "nbformat_minor": 2
}
