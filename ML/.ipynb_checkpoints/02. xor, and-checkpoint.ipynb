{
 "cells": [
  {
   "cell_type": "code",
   "execution_count": 2,
   "metadata": {},
   "outputs": [
    {
     "name": "stdout",
     "output_type": "stream",
     "text": [
      "예측데이터 :  [[0, 0], [0, 1], [1, 0], [1, 1]]\n",
      "예측데이터 :  [0 1 1 0]\n",
      "정답률 : 4 / 4 = 1.0\n"
     ]
    }
   ],
   "source": [
    "from sklearn import svm\n",
    "\n",
    "xor_input = [[0, 0, 0],\n",
    "            [0, 1, 1],\n",
    "            [1, 0, 1],\n",
    "            [1, 1, 0]]\n",
    "\n",
    "xor_data = []\n",
    "xor_label = []\n",
    "for row in xor_input:\n",
    "    p = row[0]\n",
    "    q = row[1]\n",
    "    r = row[2]\n",
    "    \n",
    "    xor_data.append([p, q])\n",
    "    xor_label.append(r)\n",
    "\n",
    "model = svm.SVC()\n",
    "model.fit(xor_data, xor_label)\n",
    "\n",
    "pre = model.predict(xor_data)\n",
    "print(\"예측데이터 : \", xor_data)\n",
    "print(\"예측데이터 : \", pre)\n",
    "\n",
    "ok = 0; total = 0\n",
    "for idx, answer in enumerate(xor_label):\n",
    "    p = pre[idx]\n",
    "    if p == answer:\n",
    "        ok += 1\n",
    "    total += 1\n",
    "\n",
    "print('정답률 :', ok, '/', total, '=', ok/total)"
   ]
  },
  {
   "cell_type": "code",
   "execution_count": 10,
   "metadata": {},
   "outputs": [
    {
     "name": "stdout",
     "output_type": "stream",
     "text": [
      "정답률 : 1.0\n"
     ]
    }
   ],
   "source": [
    "import pandas as pd\n",
    "from sklearn import svm, metrics\n",
    "from sklearn.neighbors import KNeighborsClassifier\n",
    "\n",
    "xor_input = [[0, 0, 0],\n",
    "            [0, 1, 1],\n",
    "            [1, 0, 1],\n",
    "            [1, 1, 0]]\n",
    "\n",
    "xor_df = pd.DataFrame(xor_input)\n",
    "xor_data = xor_df[[0, 1]]\n",
    "xor_label = xor_df[2]\n",
    "\n",
    "# model = svm.SVC()\n",
    "model = KNeighborsClassifier(n_neighbors=1)\n",
    "model.fit(xor_data, xor_label)\n",
    "pre = model.predict(xor_data)\n",
    "\n",
    "ac_score = metrics.accuracy_score(xor_label, pre)\n",
    "print(\"정답률 :\", ac_score)"
   ]
  },
  {
   "cell_type": "code",
   "execution_count": null,
   "metadata": {},
   "outputs": [],
   "source": []
  },
  {
   "cell_type": "code",
   "execution_count": 7,
   "metadata": {},
   "outputs": [
    {
     "name": "stdout",
     "output_type": "stream",
     "text": [
      "0\n"
     ]
    }
   ],
   "source": [
    "import pickle\n",
    "\n",
    "with open('xor_model.pkl', 'wb') as f:\n",
    "    pickle.dump(model, f)\n",
    "    \n",
    "# 문제\n",
    "x_test = [[1, 1]]\n",
    "\n",
    "# 모델 예측\n",
    "y_predict = model.predict(x_test)\n",
    "print(y_predict[0]) "
   ]
  },
  {
   "cell_type": "code",
   "execution_count": 31,
   "metadata": {
    "scrolled": true
   },
   "outputs": [
    {
     "name": "stderr",
     "output_type": "stream",
     "text": [
      "C:\\Users\\MyLaptop\\anaconda3\\lib\\site-packages\\sklearn\\externals\\joblib\\__init__.py:15: FutureWarning: sklearn.externals.joblib is deprecated in 0.21 and will be removed in 0.23. Please import this functionality directly from joblib, which can be installed with: pip install joblib. If this warning is raised when loading pickled models, you may need to re-serialize those models with scikit-learn 0.21+.\n",
      "  warnings.warn(msg, category=FutureWarning)\n"
     ]
    },
    {
     "data": {
      "text/plain": [
       "['xor_model_2.pkl']"
      ]
     },
     "execution_count": 31,
     "metadata": {},
     "output_type": "execute_result"
    }
   ],
   "source": [
    "from sklearn.externals import joblib\n",
    "\n",
    "joblib.dump(model, 'xor_model_2.pkl')"
   ]
  },
  {
   "cell_type": "code",
   "execution_count": 8,
   "metadata": {},
   "outputs": [
    {
     "name": "stdout",
     "output_type": "stream",
     "text": [
      "0\n"
     ]
    },
    {
     "name": "stderr",
     "output_type": "stream",
     "text": [
      "C:\\Users\\MyLaptop\\anaconda3\\lib\\site-packages\\sklearn\\externals\\joblib\\__init__.py:15: FutureWarning: sklearn.externals.joblib is deprecated in 0.21 and will be removed in 0.23. Please import this functionality directly from joblib, which can be installed with: pip install joblib. If this warning is raised when loading pickled models, you may need to re-serialize those models with scikit-learn 0.21+.\n",
      "  warnings.warn(msg, category=FutureWarning)\n"
     ]
    }
   ],
   "source": [
    "from sklearn.externals import joblib\n",
    "\n",
    "model = joblib.load('xor_model_2.pkl') \n",
    "\n",
    "# 문제\n",
    "x_test = [[1, 1]]\n",
    "\n",
    "# 모델 예측\n",
    "y_predict = model.predict(x_test)\n",
    "print(y_predict[0]) "
   ]
  },
  {
   "cell_type": "code",
   "execution_count": 37,
   "metadata": {},
   "outputs": [
    {
     "name": "stdout",
     "output_type": "stream",
     "text": [
      "정답률 : 1.0\n"
     ]
    }
   ],
   "source": [
    "import pandas as pd\n",
    "from sklearn import svm, metrics\n",
    "from sklearn.neighbors import KNeighborsClassifier\n",
    "\n",
    "xor_input = [[0, 0, 0],\n",
    "            [0, 1, 0],\n",
    "            [1, 0, 0],\n",
    "            [1, 1, 1]]\n",
    "\n",
    "xor_df = pd.DataFrame(xor_input)\n",
    "xor_data = xor_df[[0, 1]]\n",
    "xor_label = xor_df[2]\n",
    "\n",
    "model = KNeighborsClassifier(n_neighbors=1)\n",
    "model.fit(xor_data, xor_label)\n",
    "pre = model.predict(xor_data)\n",
    "\n",
    "ac_score = metrics.accuracy_score(xor_label, pre)\n",
    "print(\"정답률 :\", ac_score)"
   ]
  }
 ],
 "metadata": {
  "kernelspec": {
   "display_name": "Python 3",
   "language": "python",
   "name": "python3"
  },
  "language_info": {
   "codemirror_mode": {
    "name": "ipython",
    "version": 3
   },
   "file_extension": ".py",
   "mimetype": "text/x-python",
   "name": "python",
   "nbconvert_exporter": "python",
   "pygments_lexer": "ipython3",
   "version": "3.7.6"
  }
 },
 "nbformat": 4,
 "nbformat_minor": 4
}
