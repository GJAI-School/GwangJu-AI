{
  "nbformat": 4,
  "nbformat_minor": 0,
  "metadata": {
    "colab": {
      "name": "1주차과제.ipynb",
      "provenance": [],
      "authorship_tag": "ABX9TyMXFVZyp9D9WybAy9q8WxwI",
      "include_colab_link": true
    },
    "kernelspec": {
      "name": "python3",
      "display_name": "Python 3"
    }
  },
  "cells": [
    {
      "cell_type": "markdown",
      "metadata": {
        "id": "view-in-github",
        "colab_type": "text"
      },
      "source": [
        "<a href=\"https://colab.research.google.com/github/cromatical/GwangJu-AI/blob/master/1%EC%A3%BC%EC%B0%A8%EA%B3%BC%EC%A0%9C.ipynb\" target=\"_parent\"><img src=\"https://colab.research.google.com/assets/colab-badge.svg\" alt=\"Open In Colab\"/></a>"
      ]
    },
    {
      "cell_type": "markdown",
      "metadata": {
        "id": "rX3OrDKakZE0",
        "colab_type": "text"
      },
      "source": [
        "# 1주차 과제\n",
        "\n",
        "\n",
        "---\n",
        "\n",
        "\n",
        "\n"
      ]
    },
    {
      "cell_type": "markdown",
      "metadata": {
        "id": "S09mk9gGjPcz",
        "colab_type": "text"
      },
      "source": [
        "> **과제내용** : 인공지능은 현재 많은 제품과 서비스에 적용되어 있습니다. 특히 **언어, 음성, 이미지, 자율주행**의 분야에서 자주 찾아볼 수 있는데요. 시중에 나와있는 다양한 제품들과 서비스 속 적용된 인공지능 기술들에 대해서 분석해 보고 여러분의 흥미를 끄는 기술들을 무엇이 있는지 찾아보며 여러분 나름의 학습 목표를 세워보시기 바랍니다.\n",
        "\n",
        "\n",
        "\n",
        "\n",
        "\n",
        "\n"
      ]
    },
    {
      "cell_type": "markdown",
      "metadata": {
        "id": "ix8K6bqykKB6",
        "colab_type": "text"
      },
      "source": [
        "## 언어\n",
        "\n",
        "\n",
        "---\n",
        "\n",
        "\n",
        "1. 검색 자동완성 및 연관검색\n",
        "2. 자동번역 및 통역\n",
        "2. 여러 상황에 맞게 질문답변을 하는 AI (자동챗봇?)\n",
        "3. 악성 댓글 차단\n",
        "\n",
        "\n",
        "---\n",
        "\n",
        "\n",
        "### 자연 언어 처리(Natural Language Processing, NLP)\n",
        "\n",
        "- 자연 언어 처리(Natural Language Processing, NLP)는 컴퓨터와 인간 언어 사이의 상호 작용하는 기술로 인공지능의 핵심 기능 중 하나이다.\n",
        "\n",
        "- NLP 기술은 기계번역, 대화체 질의응답 시스템 대화시스템, 정보검색, 말뭉치 구축, 시맨틱웹, 텍, 딥러닝, 그리고 빅데이터 분석 분야뿐만 아니라 인간의 언어정보처리 원리와 이해를 위한 언어학과 뇌인지 언어정보처리 분야까지 핵심적인 요소로 작용하고 있다.\n",
        "\n",
        "- NLP에는 자연어 분석, 자연어 이해, 자연어 생성 등의 기술이 사용된다. 자연어 분석은 그 정도에 따라 형태소 분석(morphological analysis), 구문 분석(syntactic analysis), 하나로써 문장의 의미에 기저하여 그 문장을 해석하는 시멘틱 분석(semantic analysis)과 문장이 실제로 무슨 의미를 내포하는지 결정하는 실용 분석(pragmatic analysis) 등으로 크게 나누어 구분할 수 있다.\n",
        "\n",
        "- 언어 자료 ‘말뭉치(말모둠, 글모둠)’는 양이 클수록 AI가 인식(이해)할 수 있는 자연어의 정확도가 높아지며, AI가 얼마나 많이 학습하느냐에 그 성능을 좌우한다.\n",
        "\n",
        "[출처 : http://www.aitimes.kr/news/articleView.html?idxno=15036](http://www.aitimes.kr/news/articleView.html?idxno=15036)\n",
        "\n",
        "\n",
        "\n",
        "\n",
        "\n",
        "\n",
        "\n",
        "\n",
        "\n",
        "\n"
      ]
    },
    {
      "cell_type": "markdown",
      "metadata": {
        "id": "VXZggt6UkM5U",
        "colab_type": "text"
      },
      "source": [
        "## 음성\n",
        "\n",
        "\n",
        "---\n",
        "\n",
        "\n",
        "> 음성인식 AI를 통하여 아래의 하드웨어에서 기기조작, 검색, 쇼핑, 음악, 스트리밍 등 여러 서비스를 제공받는다.\n",
        "\n",
        "\n",
        "\n",
        "1.   AI 스피커\n",
        "2.   스마트TV\n",
        "3.   스마트폰\n",
        "4.   커넥티드 카\n",
        "\n",
        "\n",
        "---\n",
        "\n",
        "\n",
        "### 음성 AI의 기반 기술\n",
        "\n",
        "\n",
        "- 사람의 음성을 텍스트 데이터 형태로 바꿔주는 음성인식(Speech Recognition) 기술이다.\n",
        "\n",
        "- 음성 입력 과정에서 음성 인식 정확도를 높이기 위해 녹음 장치로 수집한 데이터에서 잡음과 불필요한 데이터를 걸러주는 전처리 기술도 함께 활용된다.\n",
        "\n",
        "- 음성 인식 기술은 음성 신호로부터 문자 정보를 출력하는데, 상용 서비스에 적용되는 음향 정보 해독은 확률 통계 방식을 사용한다.\n",
        "\n",
        "- 음성 인식 기능 향상을 위해서는 방대한 언어 자료를 수집하고 분석하는 데이터 분석 기술이 필수적이다.\n",
        "\n",
        "- 음성을 텍스트 데이터로 올바르게 변환후, 텍스트를 컴퓨터가 이해할 수 있도록 위의 언어와 마찬가지로 자연어 처리가 필요하다.\n",
        "\n",
        "[출처 : https://home.kpmg/kr/ko/home/insights/2020/04/issue-monitor-126.html](https://home.kpmg/kr/ko/home/insights/2020/04/issue-monitor-126.html)"
      ]
    },
    {
      "cell_type": "markdown",
      "metadata": {
        "id": "gwkzaQT3kNYQ",
        "colab_type": "text"
      },
      "source": [
        "## 이미지\n",
        "\n",
        "---\n",
        "\n",
        "\n",
        "1.   사물을 보고 인식하는 AI\n",
        "2.   스마트팩토리 : 불량제품을 구별하여 불량판정률 높이기\n",
        "3.   보안 검색대 : 사람이 하나하나 판별이 아닌 AI 이미지 분석을 이용하여 보다 정밀하게 분석\n",
        "4.   무인 스토어 : 계산대에 올리면 상품들을 자동으로 인식\n",
        "5.   의료 서비스 : 이미지분석을 통해 질병을 예측하고 분석\n",
        "\n",
        "\n",
        "---\n",
        "\n",
        "\n",
        "### 이미지 인식 AI\n",
        "\n",
        "- 이미지에서 다양한 크기의 부분 이미지에서 특징을 추출한다.\n",
        "\n",
        "- 구별에 필요한 필터를 자동으로 학습시킨다.\n",
        "\n",
        "- 층이 높아질수록 구별적인 추상화가 이루어진다.\n",
        "\n",
        "### 객체 인식 기술\n",
        "\n",
        "- 객체 감지(Object detection)와  객체 인식(Object recognition) : 객체 감지는 이미지에서 객체의 인스턴스를 찾아내는 프로세스로 딥러닝의 경우 객체 감지는 이미지에서 객체를 식별할 뿐만 아니라 위치까지 파악되는 객체 인식의 서브셋이다. 이를 통해 하나의 이미지에서 여러 객체를 식별하고 각 위치를 파악할 수 있다.\n",
        "\n",
        "- 딥러닝을 사용한 객체 인식에는 컨벌루션 뉴럴 네트워크(CNN)과 같은 딥러닝 모델을 이용하여 객체를 식별하기 위해 해당 객체 고유의 특징을 자동으로 학습시킨다.\n",
        "\n",
        "- 사전 훈련된 딥러닝 모델 사용하는 방법으로 대다수 딥러닝 응용 프로그램은 사전 훈련된 모델을 세밀하게 조정하는 방법이 포함된 프로세스인 전이학습(Transfer learning) 방식을 이용하여 시간소모가 줄게 되고 결과물을 빠르게 산출할 수 있다.\n",
        "\n",
        "[출처 : http://www.aitimes.kr/news/articleView.html?idxno=12087](http://www.aitimes.kr/news/articleView.html?idxno=12087)\n",
        "\n",
        "\n",
        "\n",
        "\n"
      ]
    },
    {
      "cell_type": "markdown",
      "metadata": {
        "id": "A_gfUOYqkM8w",
        "colab_type": "text"
      },
      "source": [
        "## 자율주행\n",
        "\n",
        "---\n",
        "\n",
        "\n",
        "> 라이다(Lidar) 센서, 레이더, 초음파 센서(Sensor), 적외선 카메라, 모노/스테레오 카메라 등을 자동차 내외부에 설치하고 이러한 센서 등을 통해 외부 정보를 수집해 분석한 후 자동차 스스로 주변 환경을 인식해 위험한 상황을 판단하고 주행 경로를 계획하는 등 운전자의 주행조작을 최소화하며, 스스로 안전한 주행이 가능하도록 해주는 시스템.\n",
        "\n",
        "\n",
        "\n",
        "1.   자율주행 AI자동차 뿐만아니라 비행기, 선박, 드론, 로봇등 다양한 이동체 적용 가능\n",
        "\n",
        "\n",
        "---\n",
        "\n",
        "\n",
        "## 지율주행AI기술\n",
        "\n",
        "\n",
        "- 영상센서 : 차량에 영상정보 제공\n",
        "- 라이다 센서 : 주위 장애물을 인지\n",
        "\n",
        "AI는 위와 같은 정보를 분석하고 자동차가 자율주행할 수 있게 하는 역할을 한다.\n",
        "\n",
        "- 자동차 내 하드웨어 자원으로 구현하기 위해 고사양의 하드웨어가 필요하다.\n",
        "\n",
        "- 실제 자율주행 모의시험에는 큰 비용이 수반되고, 물리적인 제약으로 자율주행 시험량에 한계가 있으므로 이에 가상환경에서 자율주행 시험을 구현하는게 필요하다.\n",
        "\n",
        "- 마치 사람이 주행을 반복하며 운전을 익혀가는 것처럼 자율주행차가 운전 데이터를 쌓아가며 기술을 스스로 정교하게 만드는 딥러닝 기반 자율주행 개발 방식.\n",
        "\n",
        "[출처 : https://www.sciencetimes.co.kr/news/%EC%9E%90%EC%9C%A8%EC%A3%BC%ED%96%89-%EA%B8%B0%EC%88%A0-ai%C2%B75g%EA%B0%80-%EC%A3%BC%EC%B6%95-%EC%9D%B4%EB%A4%84/](https://https://www.sciencetimes.co.kr/news/%EC%9E%90%EC%9C%A8%EC%A3%BC%ED%96%89-%EA%B8%B0%EC%88%A0-ai%C2%B75g%EA%B0%80-%EC%A3%BC%EC%B6%95-%EC%9D%B4%EB%A4%84/)\n",
        "\n"
      ]
    },
    {
      "cell_type": "markdown",
      "metadata": {
        "id": "VK7_C3IQuH_E",
        "colab_type": "text"
      },
      "source": [
        "### 학습 목표 설정\n",
        "\n",
        "\n",
        "1. 인공지능에 대한 기본적인 개념, 지식, 표현, 추론, 문제, 문제해결방안을 제대로 알고 넘어가자.\n",
        "\n",
        "2.   인공지능은 적용시킬 분야가 굉장히 넓고 다양하므로 세분화된 목표, 주제를 정할 필요가 있다.\n",
        "\n",
        "3.   다양한 머신러닝과 딥러닝 기법 및 알고리즘을 구체적이지는 않더라도 한번쯤은 보자.\n",
        "\n",
        "4. 이 모든건 코드로 구현을 하기 때문에 알고리즘에 대한 코드 분석 및 틈틈히 코딩하자.\n",
        "   \n",
        "\n"
      ]
    }
  ]
}