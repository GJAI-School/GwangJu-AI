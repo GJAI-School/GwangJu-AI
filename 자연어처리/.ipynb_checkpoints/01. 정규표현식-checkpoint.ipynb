{
 "cells": [
  {
   "cell_type": "markdown",
   "metadata": {},
   "source": [
    "### 기본메타문자"
   ]
  },
  {
   "cell_type": "code",
   "execution_count": 11,
   "metadata": {},
   "outputs": [
    {
     "name": "stdout",
     "output_type": "stream",
     "text": [
      "None\n",
      "None\n",
      "<re.Match object; span=(0, 4), match='a12b'>\n",
      "<re.Match object; span=(0, 5), match='a123b'>\n"
     ]
    }
   ],
   "source": [
    "import re\n",
    "\n",
    "list_a = ['abc', 'a1b', 'a12b', 'a123b']\n",
    "p = re.compile('a.{2,3}b')\n",
    "\n",
    "for i in list_a:\n",
    "    print(p.match(i))"
   ]
  },
  {
   "cell_type": "markdown",
   "metadata": {},
   "source": [
    "### re모듈"
   ]
  },
  {
   "cell_type": "code",
   "execution_count": 5,
   "metadata": {
    "tags": []
   },
   "outputs": [
    {
     "name": "stdout",
     "output_type": "stream",
     "text": [
      "<re.Match object; span=(4, 8), match='a12b'>\n",
      "None\n",
      "None\n",
      "None\n",
      "<re.Match object; span=(0, 4), match='a12b'>\n",
      "None\n"
     ]
    }
   ],
   "source": [
    "import re\n",
    "\n",
    "list_a = ['123 a12b', 'ab', 'abc', 'a1b', 'a12b', 'a123b']\n",
    "p = re.compile('a.{2}b')\n",
    "\n",
    "# a = 'ab a1b a12b a123b a1234b a12345b'\n",
    "# p = re.compile('.+')\n",
    "\n",
    "# print(p.findall(a)) # 해당문자열에서 매치된거 리스트로 반환\n",
    "# print(p.finditer(a)) # 이터레이터를 확인할수 있다.\n",
    "\n",
    "for i in list_a:\n",
    "    # print(p.match(i))\n",
    "    print(p.search(i))"
   ]
  },
  {
   "cell_type": "code",
   "execution_count": 24,
   "metadata": {},
   "outputs": [
    {
     "name": "stdout",
     "output_type": "stream",
     "text": [
      "ab a1b a12b a123b a1234b a12345b\n",
      "0\n",
      "32\n",
      "(0, 32)\n"
     ]
    }
   ],
   "source": [
    "print(p.match(a).group())\n",
    "print(p.match(a).start())\n",
    "print(p.match(a).end())\n",
    "print(p.match(a).span())"
   ]
  },
  {
   "cell_type": "markdown",
   "metadata": {},
   "source": [
    "### compile할 때 사용할수 있는 옵션"
   ]
  },
  {
   "cell_type": "code",
   "execution_count": 29,
   "metadata": {},
   "outputs": [
    {
     "name": "stdout",
     "output_type": "stream",
     "text": [
      "<re.Match object; span=(0, 32), match='ab a1b a12b a123b a1234b a12345b'>\n"
     ]
    }
   ],
   "source": [
    "p = re.compile('A.*B', re.I) # 대소문자 무시\n",
    "print(p.match(a))"
   ]
  },
  {
   "cell_type": "markdown",
   "metadata": {},
   "source": [
    "### 문자클래스"
   ]
  },
  {
   "cell_type": "code",
   "execution_count": 33,
   "metadata": {},
   "outputs": [
    {
     "name": "stdout",
     "output_type": "stream",
     "text": [
      "None\n",
      "None\n",
      "None\n",
      "<re.Match object; span=(0, 3), match='a1b'>\n",
      "<re.Match object; span=(0, 4), match='a12b'>\n",
      "<re.Match object; span=(0, 5), match='a123b'>\n"
     ]
    }
   ],
   "source": [
    "list_a = ['123 a12b', 'ab', 'abc', 'a1b', 'a12b', 'a123b']\n",
    "p = re.compile(r'a\\d+b')\n",
    "\n",
    "for i in list_a:\n",
    "    print(p.match(i))"
   ]
  },
  {
   "cell_type": "markdown",
   "metadata": {},
   "source": [
    "### 그루핑"
   ]
  },
  {
   "cell_type": "code",
   "execution_count": 10,
   "metadata": {},
   "outputs": [
    {
     "name": "stdout",
     "output_type": "stream",
     "text": [
      "학점 2.0 - 김준태\n",
      "학점 2.0\n",
      "<re.Match object; span=(0, 12), match='김준태 - 학점 2.0'>\n"
     ]
    }
   ],
   "source": [
    "import re\n",
    "\n",
    "a = '김준태 - 학점 2.0'\n",
    "p = re.compile(r'(?P<name>\\w+)\\s.\\s(?P<grade>\\w+\\s.+)')\n",
    "print(p.sub(\"\\g<grade> - \\g<name>\", a))\n",
    "print(p.match(a).group(2))\n",
    "print(p.match(a))"
   ]
  },
  {
   "cell_type": "markdown",
   "metadata": {},
   "source": [
    "### 문자열의 서브함수"
   ]
  },
  {
   "cell_type": "code",
   "execution_count": 6,
   "metadata": {},
   "outputs": [
    {
     "name": "stdout",
     "output_type": "stream",
     "text": [
      "ab\n",
      "a1b\n",
      "a12bgood\n",
      "a123b\n"
     ]
    }
   ],
   "source": [
    "import re\n",
    "\n",
    "list_a = ['ab', 'a1b', 'a12b', 'a123b']\n",
    "p = re.compile('a.{2}b')\n",
    "\n",
    "def sub(match):\n",
    "    matched_text = match.group()\n",
    "    return matched_text+'good'\n",
    "\n",
    "for i in list_a:\n",
    "    print(p.sub(sub, i))"
   ]
  },
  {
   "cell_type": "code",
   "execution_count": 18,
   "metadata": {},
   "outputs": [
    {
     "name": "stdout",
     "output_type": "stream",
     "text": [
      "<re.Match object; span=(0, 8), match='코끼리는 코끼리'>\n",
      "<re.Match object; span=(0, 8), match='강아지은 강아지'>\n",
      "None\n"
     ]
    }
   ],
   "source": [
    "import re\n",
    "\n",
    "a = [\"코끼리는 코끼리\", '강아지은 강아지', '고양이든 고양이']\n",
    "p = re.compile(r'(?P<name>.+)[은는]\\s.+')\n",
    "\n",
    "for i in a:\n",
    "    print(p.match(i))"
   ]
  },
  {
   "cell_type": "code",
   "execution_count": 21,
   "metadata": {},
   "outputs": [
    {
     "name": "stdout",
     "output_type": "stream",
     "text": [
      "<re.Match object; span=(0, 7), match='<안녕하세요>'>\n"
     ]
    }
   ],
   "source": [
    "import re\n",
    "a = '<안녕하세요><반갑습니다>'\n",
    "p = re.compile('<.+?>') # ?를 사용하면 중복되기전에 한번만 뽑아낼수가있다.\n",
    "print(p.match(a))"
   ]
  }
 ],
 "metadata": {
  "kernelspec": {
   "display_name": "Python 3",
   "language": "python",
   "name": "python3"
  },
  "language_info": {
   "codemirror_mode": {
    "name": "ipython",
    "version": 3
   },
   "file_extension": ".py",
   "mimetype": "text/x-python",
   "name": "python",
   "nbconvert_exporter": "python",
   "pygments_lexer": "ipython3",
   "version": "3.7.6"
  }
 },
 "nbformat": 4,
 "nbformat_minor": 4
}
