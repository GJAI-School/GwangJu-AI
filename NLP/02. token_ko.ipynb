{
 "cells": [
  {
   "cell_type": "code",
   "execution_count": 39,
   "metadata": {
    "scrolled": true
   },
   "outputs": [
    {
     "name": "stdout",
     "output_type": "stream",
     "text": [
      "['눈', '이', '부시', '게', '웃던', '널', '기억', '해', '\\n', '이제', '는', '다시', '볼', '수', '없게', '됐지만', '\\n', '끝내', '붙잡았던', '기억', '들', '만', '\\n', '이', '겨울', '을', '지나간다', '\\n', '나지막이', '들리지', '않게', '전하', '는', '\\n', '기다릴게', '이', '한마디', '대신', '\\n', '피고', '진다', '뜨겁게', '시린', '우리', '사랑', '\\n', '보내지', '못', '한', '계절', '처럼', '\\n', '피어', '나', '단', '한', '번', '도', '겨울', '이', '없었던', '것', '처럼', '\\n', '피어', '나', '언제', '라도', '사랑스러운', '그대로', '\\n', '추억', '은', '지나', '버린', '계절', '에', '그대로', '놓아두고서', '\\n', '그래', '처음처럼', '\\n', '가슴속', '에', '켜', '켜이', '쌓은', '그리움', '\\n', '이', '눈물', '로', '흘려내면', '그', '뿐', '\\n', '이', '눈물', '이', '그', '댈', '피워', '낼', '수', '있다면', '\\n', '그', '걸', '로', '나', '는', '괜찮은걸', '\\n', '피어', '나', '단', '한', '번', '도', '겨울', '이', '없었던', '것', '처럼', '\\n', '피어', '나', '언제', '라도', '사랑스러운', '그대로', '\\n', '스치듯', '그대', '곁', '에', '맴도', '는', '이', '작은', '한마디', '조차', '\\n', '여기', '남겨', '두고', '\\n', '아픈', '기억', '은', '여기', '남기고', '\\n', '피어', '나', '우리', '처음', '만났던', '그때', '그대', '처럼', '\\n', '피어', '나', '사랑', '했던', '그대', '모습', '그대로', '\\n', '추억', '은', '지나', '버린', '계절', '에', '그대로', '놓아두고서', '\\n', '마치', '처음처럼']\n"
     ]
    }
   ],
   "source": [
    "from konlpy.tag import Okt\n",
    "\n",
    "text = '''눈이 부시게 웃던 널 기억해\n",
    "이제는 다시 볼 수 없게 됐지만\n",
    "끝내 붙잡았던 기억들만\n",
    "이 겨울을 지나간다\n",
    "나지막이 들리지 않게 전하는\n",
    "기다릴게 이 한마디 대신\n",
    "피고 진다 뜨겁게 시린 우리 사랑\n",
    "보내지 못한 계절처럼\n",
    "피어나 단 한 번도 겨울이 없었던 것처럼\n",
    "피어나 언제라도 사랑스러운 그대로\n",
    "추억은 지나버린 계절에 그대로 놓아두고서\n",
    "그래 처음처럼\n",
    "가슴속에 켜켜이 쌓은 그리움\n",
    "이 눈물로 흘려내면 그뿐\n",
    "이 눈물이 그댈 피워낼 수 있다면\n",
    "그걸로 나는 괜찮은걸\n",
    "피어나 단 한 번도 겨울이 없었던 것처럼\n",
    "피어나 언제라도 사랑스러운 그대로\n",
    "스치듯 그대 곁에 맴도는 이 작은 한마디조차\n",
    "여기 남겨두고\n",
    "아픈 기억은 여기 남기고\n",
    "피어나 우리 처음 만났던 그때 그대처럼\n",
    "피어나 사랑했던 그대 모습 그대로\n",
    "추억은 지나버린 계절에 그대로 놓아두고서\n",
    "마치 처음처럼'''\n",
    "\n",
    "print(Okt().morphs(text))"
   ]
  },
  {
   "cell_type": "code",
   "execution_count": 40,
   "metadata": {},
   "outputs": [],
   "source": [
    "words = Okt().morphs(text)"
   ]
  },
  {
   "cell_type": "code",
   "execution_count": 41,
   "metadata": {},
   "outputs": [],
   "source": [
    "sw = ['.', ',', '이', '있', '하', '것', '들', '그', '되', '수', '이', '보',\n",
    "     '않', '없', '나', '사람', '주', '아니', '등', '같', '우리', '때', '년',\n",
    "     '가', '한', '지', '대하', '오', '말', '일', '그렇', '위하', '때문', '그것',\n",
    "     '두', '말하', '알', '그러나', '받', '못하', '그런', '또', '문제', '더',\n",
    "     '사회', '많', '그리고', '좋', '크', '따르', '중', '나오', '가지', '씨',\n",
    "     '시키', '만들', '지금', '생각하', '그러', '속', '하나', '집', '살', '모르',\n",
    "     '적', '월', '데', '자신', '안', '어떤', '내', '경우', '명', '생각', '시간',\n",
    "     '그녀', '다시', '이런', '앞', '보이', '번', '나', '다른', '어떻', '여자', '개',\n",
    "     '전', '들', '사실', '이렇', '점', '싶', '말', '정도', '좀', '원', '잘', '통하',\n",
    "     '소리', '놓', '\\n',] "
   ]
  },
  {
   "cell_type": "code",
   "execution_count": 42,
   "metadata": {},
   "outputs": [
    {
     "name": "stdout",
     "output_type": "stream",
     "text": [
      "['눈', '부시', '게', '웃던', '널', '기억', '해', '이제', '는', '볼', '없게', '됐지만', '끝내', '붙잡았던', '기억', '만', '겨울', '을', '지나간다', '나지막이', '들리지', '않게', '전하', '는', '기다릴게', '한마디', '대신', '피고', '진다', '뜨겁게', '시린', '사랑', '보내지', '못', '계절', '처럼', '피어', '단', '도', '겨울', '없었던', '처럼', '피어', '언제', '라도', '사랑스러운', '그대로', '추억', '은', '지나', '버린', '계절', '에', '그대로', '놓아두고서', '그래', '처음처럼', '가슴속', '에', '켜', '켜이', '쌓은', '그리움', '눈물', '로', '흘려내면', '뿐', '눈물', '댈', '피워', '낼', '있다면', '걸', '로', '는', '괜찮은걸', '피어', '단', '도', '겨울', '없었던', '처럼', '피어', '언제', '라도', '사랑스러운', '그대로', '스치듯', '그대', '곁', '에', '맴도', '는', '작은', '한마디', '조차', '여기', '남겨', '두고', '아픈', '기억', '은', '여기', '남기고', '피어', '처음', '만났던', '그때', '그대', '처럼', '피어', '사랑', '했던', '그대', '모습', '그대로', '추억', '은', '지나', '버린', '계절', '에', '그대로', '놓아두고서', '마치', '처음처럼']\n"
     ]
    }
   ],
   "source": [
    "sw_remove = []\n",
    "\n",
    "for i in words:\n",
    "    if i not in sw:\n",
    "        sw_remove.append(i)\n",
    "        \n",
    "print(sw_remove)"
   ]
  },
  {
   "cell_type": "code",
   "execution_count": 43,
   "metadata": {},
   "outputs": [
    {
     "name": "stdout",
     "output_type": "stream",
     "text": [
      "Counter({'피어': 6, '그대로': 5, '는': 4, '처럼': 4, '에': 4, '기억': 3, '겨울': 3, '계절': 3, '은': 3, '그대': 3, '한마디': 2, '사랑': 2, '단': 2, '도': 2, '없었던': 2, '언제': 2, '라도': 2, '사랑스러운': 2, '추억': 2, '지나': 2, '버린': 2, '놓아두고서': 2, '처음처럼': 2, '눈물': 2, '로': 2, '여기': 2, '눈': 1, '부시': 1, '게': 1, '웃던': 1, '널': 1, '해': 1, '이제': 1, '볼': 1, '없게': 1, '됐지만': 1, '끝내': 1, '붙잡았던': 1, '만': 1, '을': 1, '지나간다': 1, '나지막이': 1, '들리지': 1, '않게': 1, '전하': 1, '기다릴게': 1, '대신': 1, '피고': 1, '진다': 1, '뜨겁게': 1, '시린': 1, '보내지': 1, '못': 1, '그래': 1, '가슴속': 1, '켜': 1, '켜이': 1, '쌓은': 1, '그리움': 1, '흘려내면': 1, '뿐': 1, '댈': 1, '피워': 1, '낼': 1, '있다면': 1, '걸': 1, '괜찮은걸': 1, '스치듯': 1, '곁': 1, '맴도': 1, '작은': 1, '조차': 1, '남겨': 1, '두고': 1, '아픈': 1, '남기고': 1, '처음': 1, '만났던': 1, '그때': 1, '했던': 1, '모습': 1, '마치': 1})\n"
     ]
    }
   ],
   "source": [
    "from collections import Counter\n",
    "\n",
    "count_list = Counter(sw_remove) # 가장기본적으로 빈도수대로 인덱스를 부여하는것!\n",
    "print(count_list)"
   ]
  },
  {
   "cell_type": "code",
   "execution_count": 44,
   "metadata": {},
   "outputs": [
    {
     "name": "stdout",
     "output_type": "stream",
     "text": [
      "[('피어', 6), ('그대로', 5), ('는', 4), ('처럼', 4), ('에', 4), ('기억', 3), ('겨울', 3), ('계절', 3), ('은', 3), ('그대', 3)]\n"
     ]
    }
   ],
   "source": [
    "common_c1 = count_list.most_common(10)\n",
    "print(common_c1)"
   ]
  },
  {
   "cell_type": "code",
   "execution_count": 46,
   "metadata": {},
   "outputs": [
    {
     "name": "stdout",
     "output_type": "stream",
     "text": [
      "[('피어', 6), ('그대로', 5), ('는', 4), ('처럼', 4), ('에', 4), ('기억', 3), ('겨울', 3), ('계절', 3), ('은', 3), ('그대', 3)]\n"
     ]
    }
   ],
   "source": [
    "common_dic = {}\n",
    "i = 0\n",
    "\n",
    "for (key, value) in common_c1:\n",
    "    common_dic[key] = i\n",
    "    i+=1\n",
    "\n",
    "print(common_c1)"
   ]
  },
  {
   "cell_type": "code",
   "execution_count": 47,
   "metadata": {},
   "outputs": [
    {
     "name": "stdout",
     "output_type": "stream",
     "text": [
      "[[1, 0, 0, 0, 0, 0, 0, 0, 0, 0], [0, 1, 0, 0, 0, 0, 0, 0, 0, 0], [0, 0, 1, 0, 0, 0, 0, 0, 0, 0], [0, 0, 0, 1, 0, 0, 0, 0, 0, 0], [0, 0, 0, 0, 1, 0, 0, 0, 0, 0], [0, 0, 0, 0, 0, 1, 0, 0, 0, 0], [0, 0, 0, 0, 0, 0, 1, 0, 0, 0], [0, 0, 0, 0, 0, 0, 0, 1, 0, 0], [0, 0, 0, 0, 0, 0, 0, 0, 1, 0], [0, 0, 0, 0, 0, 0, 0, 0, 0, 1]]\n"
     ]
    }
   ],
   "source": [
    "one_hot_lst = []\n",
    "\n",
    "for value in common_dic.values():\n",
    "    one_hot_vector = [0] * len(common_dic)\n",
    "    one_hot_vector[value] = 1\n",
    "    one_hot_lst.append(one_hot_vector)\n",
    "\n",
    "print(one_hot_lst)"
   ]
  },
  {
   "cell_type": "code",
   "execution_count": 52,
   "metadata": {},
   "outputs": [
    {
     "data": {
      "image/png": "[encoded data removed]",
      "text/plain": [
       "<Figure size 432x288 with 1 Axes>"
      ]
     },
     "metadata": {
      "needs_background": "light"
     },
     "output_type": "display_data"
    }
   ],
   "source": [
    "import matplotlib.pyplot as plt\n",
    "from wordcloud import WordCloud\n",
    "from PIL import Image\n",
    "import numpy as np\n",
    "\n",
    "img_mask = np.array(Image.open('poketmon.png'))\n",
    "\n",
    "my_wc = WordCloud(font_path=r'C:\\Windows\\Fonts\\gulim.ttc',background_color='white', mask=img_mask)\n",
    "plt.imshow(my_wc.generate_from_frequencies(count_list))\n",
    "plt.show()"
   ]
  }
 ],
 "metadata": {
  "kernelspec": {
   "display_name": "Python 3",
   "language": "python",
   "name": "python3"
  },
  "language_info": {
   "codemirror_mode": {
    "name": "ipython",
    "version": 3
   },
   "file_extension": ".py",
   "mimetype": "text/x-python",
   "name": "python",
   "nbconvert_exporter": "python",
   "pygments_lexer": "ipython3",
   "version": "3.7.6"
  }
 },
 "nbformat": 4,
 "nbformat_minor": 4
}
