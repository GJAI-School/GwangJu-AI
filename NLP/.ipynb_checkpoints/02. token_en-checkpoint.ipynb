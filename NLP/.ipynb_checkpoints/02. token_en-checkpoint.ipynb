{
 "cells": [
  {
   "cell_type": "code",
   "execution_count": 1,
   "metadata": {
    "scrolled": true
   },
   "outputs": [
    {
     "name": "stdout",
     "output_type": "stream",
     "text": [
      "Requirement already satisfied: nltk in c:\\users\\mylaptop\\anaconda3\\lib\\site-packages (3.4.5)\n",
      "Requirement already satisfied: six in c:\\users\\mylaptop\\anaconda3\\lib\\site-packages (from nltk) (1.14.0)\n",
      "Requirement already satisfied: konlpy in c:\\users\\mylaptop\\anaconda3\\lib\\site-packages (0.5.2)\n",
      "Requirement already satisfied: lxml>=4.1.0 in c:\\users\\mylaptop\\anaconda3\\lib\\site-packages (from konlpy) (4.5.0)\n",
      "Requirement already satisfied: colorama in c:\\users\\mylaptop\\anaconda3\\lib\\site-packages (from konlpy) (0.4.3)\n",
      "Requirement already satisfied: JPype1>=0.7.0 in c:\\users\\mylaptop\\anaconda3\\lib\\site-packages (from konlpy) (0.7.5)\n",
      "Requirement already satisfied: beautifulsoup4==4.6.0 in c:\\users\\mylaptop\\anaconda3\\lib\\site-packages (from konlpy) (4.6.0)\n",
      "Requirement already satisfied: numpy>=1.6 in c:\\users\\mylaptop\\anaconda3\\lib\\site-packages (from konlpy) (1.18.1)\n",
      "Requirement already satisfied: tweepy>=3.7.0 in c:\\users\\mylaptop\\anaconda3\\lib\\site-packages (from konlpy) (3.9.0)\n",
      "Requirement already satisfied: six>=1.10.0 in c:\\users\\mylaptop\\anaconda3\\lib\\site-packages (from tweepy>=3.7.0->konlpy) (1.14.0)\n",
      "Requirement already satisfied: requests-oauthlib>=0.7.0 in c:\\users\\mylaptop\\anaconda3\\lib\\site-packages (from tweepy>=3.7.0->konlpy) (1.3.0)\n",
      "Requirement already satisfied: requests[socks]>=2.11.1 in c:\\users\\mylaptop\\anaconda3\\lib\\site-packages (from tweepy>=3.7.0->konlpy) (2.22.0)\n",
      "Requirement already satisfied: oauthlib>=3.0.0 in c:\\users\\mylaptop\\anaconda3\\lib\\site-packages (from requests-oauthlib>=0.7.0->tweepy>=3.7.0->konlpy) (3.1.0)\n",
      "Requirement already satisfied: urllib3!=1.25.0,!=1.25.1,<1.26,>=1.21.1 in c:\\users\\mylaptop\\anaconda3\\lib\\site-packages (from requests[socks]>=2.11.1->tweepy>=3.7.0->konlpy) (1.25.8)\n",
      "Requirement already satisfied: chardet<3.1.0,>=3.0.2 in c:\\users\\mylaptop\\anaconda3\\lib\\site-packages (from requests[socks]>=2.11.1->tweepy>=3.7.0->konlpy) (3.0.4)\n",
      "Requirement already satisfied: idna<2.9,>=2.5 in c:\\users\\mylaptop\\anaconda3\\lib\\site-packages (from requests[socks]>=2.11.1->tweepy>=3.7.0->konlpy) (2.8)\n",
      "Requirement already satisfied: certifi>=2017.4.17 in c:\\users\\mylaptop\\anaconda3\\lib\\site-packages (from requests[socks]>=2.11.1->tweepy>=3.7.0->konlpy) (2019.11.28)\n",
      "Requirement already satisfied: PySocks!=1.5.7,>=1.5.6; extra == \"socks\" in c:\\users\\mylaptop\\anaconda3\\lib\\site-packages (from requests[socks]>=2.11.1->tweepy>=3.7.0->konlpy) (1.7.1)\n",
      "Requirement already satisfied: kss in c:\\users\\mylaptop\\anaconda3\\lib\\site-packages (1.3.1)\n"
     ]
    }
   ],
   "source": [
    "!pip install nltk\n",
    "!pip install konlpy\n",
    "!pip install kss"
   ]
  },
  {
   "cell_type": "code",
   "execution_count": 2,
   "metadata": {},
   "outputs": [
    {
     "name": "stderr",
     "output_type": "stream",
     "text": [
      "[nltk_data] Downloading package punkt to\n",
      "[nltk_data]     C:\\Users\\MyLaptop\\AppData\\Roaming\\nltk_data...\n",
      "[nltk_data]   Package punkt is already up-to-date!\n"
     ]
    },
    {
     "data": {
      "text/plain": [
       "True"
      ]
     },
     "execution_count": 2,
     "metadata": {},
     "output_type": "execute_result"
    }
   ],
   "source": [
    "import nltk\n",
    "\n",
    "nltk.download('punkt')"
   ]
  },
  {
   "cell_type": "code",
   "execution_count": 3,
   "metadata": {},
   "outputs": [
    {
     "name": "stdout",
     "output_type": "stream",
     "text": [
      "['Hello', ',', 'My', 'name', 'is', 'Lee', '.', 'Nice', 'to', 'meet', 'you', '.']\n"
     ]
    }
   ],
   "source": [
    "from nltk.tokenize import word_tokenize\n",
    "\n",
    "text = 'Hello, My name is Lee. Nice to meet you.'\n",
    "print(word_tokenize(text))"
   ]
  },
  {
   "cell_type": "code",
   "execution_count": 4,
   "metadata": {},
   "outputs": [
    {
     "name": "stdout",
     "output_type": "stream",
     "text": [
      "['안녕하세요', '.', '반갑습니다', '.', '저', '는', '이', '윤환', '입니다', '.']\n"
     ]
    }
   ],
   "source": [
    "from konlpy.tag import Okt\n",
    "\n",
    "text = '안녕하세요. 반갑습니다. 저는 이윤환입니다.'\n",
    "print(Okt().morphs(text))"
   ]
  },
  {
   "cell_type": "code",
   "execution_count": 5,
   "metadata": {},
   "outputs": [
    {
     "name": "stdout",
     "output_type": "stream",
     "text": [
      "['안녕', '하', '세요', '.', '반갑', '습니다', '.', '저', '는', '이윤', '환', '이', 'ㅂ니다', '.']\n"
     ]
    }
   ],
   "source": [
    "from konlpy.tag import Kkma\n",
    "\n",
    "text = '안녕하세요. 반갑습니다. 저는 이윤환입니다.'\n",
    "print(Kkma().morphs(text))"
   ]
  },
  {
   "cell_type": "markdown",
   "metadata": {},
   "source": [
    "### word_tokenize 가장 기본적인 형태의 토크나이저"
   ]
  },
  {
   "cell_type": "code",
   "execution_count": 6,
   "metadata": {},
   "outputs": [
    {
     "name": "stdout",
     "output_type": "stream",
     "text": [
      "['Once', 'I', 'was', 'seven', 'years', 'old', 'my', 'mama', 'told', 'me', 'Go', 'make', 'yourself', 'some', 'friend', 'or', 'you', \"'ll\", 'be', 'lonely', 'Once', 'I', 'was', 'seven', 'years', 'old', 'It', 'was', 'a', 'big', 'big', 'world', 'but', 'we', 'thought', 'we', 'were', 'bigger', 'Pushing', 'each', 'other', 'to', 'the', 'limits', 'we', 'were', 'learning', 'quicker', 'By', 'eleven', 'smoking', 'herb', 'and', 'drinking', 'burning', 'liquor', 'Never', 'rich', 'so', 'we', 'were', 'out', 'to', 'make', 'that', 'steady', 'figure', 'Once', 'I', 'was', 'eleven', 'years', 'old', 'My', 'daddy', 'told', 'me', 'Go', 'get', 'yourself', 'a', 'wife', 'or', 'you', \"'ll\", 'be', 'lonely', 'Once', 'I', 'was', 'eleven', 'years', 'old', 'I', 'always', 'had', 'that', 'dream', 'like', 'my', 'daddy', 'before', 'me', 'So', 'I', 'started', 'writing', 'songs', 'I', 'started', 'writing', 'stories', 'Something', 'about', 'that', 'glory', 'Just', 'always', 'seemed', 'to', 'bore', 'me', \"'Cause\", 'only', 'those', 'I', 'really', 'love', 'will', 'ever', 'really', 'know', 'me', 'Once', 'I', 'was', 'twenty', 'years', 'old', 'My', 'story', 'got', 'told', 'Before', 'the', 'morning', 'sun', 'when', 'life', 'was', 'lonely', 'Once', 'I', 'was', 'twenty', 'years', 'old']\n"
     ]
    }
   ],
   "source": [
    "from nltk.tokenize import word_tokenize\n",
    "\n",
    "text = '''Once I was seven years old\n",
    "my mama told me\n",
    "Go make yourself some friend\n",
    "or you'll be lonely\n",
    "Once I was seven years old\n",
    "\n",
    "It was a big big world\n",
    "but we thought we were bigger\n",
    "Pushing each other to the limits\n",
    "we were learning quicker\n",
    "By eleven smoking herb\n",
    "and drinking burning liquor\n",
    "Never rich so we were out\n",
    "to make that steady figure\n",
    "\n",
    "Once I was eleven years old\n",
    "My daddy told me\n",
    "Go get yourself a wife\n",
    "or you'll be lonely\n",
    "Once I was eleven years old\n",
    "\n",
    "I always had that dream\n",
    "like my daddy before me\n",
    "So I started writing songs\n",
    "I started writing stories\n",
    "Something about that glory\n",
    "Just always seemed to bore me\n",
    "'Cause only those I really love\n",
    "will ever really know me\n",
    "\n",
    "Once I was twenty years old\n",
    "My story got told\n",
    "Before the morning sun\n",
    "when life was lonely\n",
    "Once I was twenty years old'''\n",
    "\n",
    "print(word_tokenize(text))"
   ]
  },
  {
   "cell_type": "markdown",
   "metadata": {},
   "source": [
    "### 영어의 n't같은 부분을 n, ', t 각각 따로두는 모듈"
   ]
  },
  {
   "cell_type": "code",
   "execution_count": 7,
   "metadata": {
    "scrolled": true
   },
   "outputs": [
    {
     "name": "stdout",
     "output_type": "stream",
     "text": [
      "['Once', 'I', 'was', 'seven', 'years', 'old', 'my', 'mama', 'told', 'me', 'Go', 'make', 'yourself', 'some', 'friend', 'or', 'you', \"'\", 'll', 'be', 'lonely', 'Once', 'I', 'was', 'seven', 'years', 'old', 'It', 'was', 'a', 'big', 'big', 'world', 'but', 'we', 'thought', 'we', 'were', 'bigger', 'Pushing', 'each', 'other', 'to', 'the', 'limits', 'we', 'were', 'learning', 'quicker', 'By', 'eleven', 'smoking', 'herb', 'and', 'drinking', 'burning', 'liquor', 'Never', 'rich', 'so', 'we', 'were', 'out', 'to', 'make', 'that', 'steady', 'figure', 'Once', 'I', 'was', 'eleven', 'years', 'old', 'My', 'daddy', 'told', 'me', 'Go', 'get', 'yourself', 'a', 'wife', 'or', 'you', \"'\", 'll', 'be', 'lonely', 'Once', 'I', 'was', 'eleven', 'years', 'old', 'I', 'always', 'had', 'that', 'dream', 'like', 'my', 'daddy', 'before', 'me', 'So', 'I', 'started', 'writing', 'songs', 'I', 'started', 'writing', 'stories', 'Something', 'about', 'that', 'glory', 'Just', 'always', 'seemed', 'to', 'bore', 'me', \"'\", 'Cause', 'only', 'those', 'I', 'really', 'love', 'will', 'ever', 'really', 'know', 'me', 'Once', 'I', 'was', 'twenty', 'years', 'old', 'My', 'story', 'got', 'told', 'Before', 'the', 'morning', 'sun', 'when', 'life', 'was', 'lonely', 'Once', 'I', 'was', 'twenty', 'years', 'old']\n"
     ]
    }
   ],
   "source": [
    "from nltk.tokenize import WordPunctTokenizer\n",
    "\n",
    "print(WordPunctTokenizer().tokenize(text))"
   ]
  },
  {
   "cell_type": "markdown",
   "metadata": {},
   "source": [
    "### 가장 표준화된 모델 하지만 다른 모델이 별로라는건 아니다"
   ]
  },
  {
   "cell_type": "code",
   "execution_count": 8,
   "metadata": {},
   "outputs": [
    {
     "name": "stdout",
     "output_type": "stream",
     "text": [
      "['Once', 'I', 'was', 'seven', 'years', 'old', 'my', 'mama', 'told', 'me', 'Go', 'make', 'yourself', 'some', 'friend', 'or', 'you', \"'ll\", 'be', 'lonely', 'Once', 'I', 'was', 'seven', 'years', 'old', 'It', 'was', 'a', 'big', 'big', 'world', 'but', 'we', 'thought', 'we', 'were', 'bigger', 'Pushing', 'each', 'other', 'to', 'the', 'limits', 'we', 'were', 'learning', 'quicker', 'By', 'eleven', 'smoking', 'herb', 'and', 'drinking', 'burning', 'liquor', 'Never', 'rich', 'so', 'we', 'were', 'out', 'to', 'make', 'that', 'steady', 'figure', 'Once', 'I', 'was', 'eleven', 'years', 'old', 'My', 'daddy', 'told', 'me', 'Go', 'get', 'yourself', 'a', 'wife', 'or', 'you', \"'ll\", 'be', 'lonely', 'Once', 'I', 'was', 'eleven', 'years', 'old', 'I', 'always', 'had', 'that', 'dream', 'like', 'my', 'daddy', 'before', 'me', 'So', 'I', 'started', 'writing', 'songs', 'I', 'started', 'writing', 'stories', 'Something', 'about', 'that', 'glory', 'Just', 'always', 'seemed', 'to', 'bore', 'me', \"'Cause\", 'only', 'those', 'I', 'really', 'love', 'will', 'ever', 'really', 'know', 'me', 'Once', 'I', 'was', 'twenty', 'years', 'old', 'My', 'story', 'got', 'told', 'Before', 'the', 'morning', 'sun', 'when', 'life', 'was', 'lonely', 'Once', 'I', 'was', 'twenty', 'years', 'old']\n"
     ]
    }
   ],
   "source": [
    "from nltk.tokenize import TreebankWordTokenizer\n",
    "\n",
    "print(TreebankWordTokenizer().tokenize(text))"
   ]
  },
  {
   "cell_type": "markdown",
   "metadata": {},
   "source": [
    "### 정규표현식을 사용할 수 있는 토크나이저도 있다."
   ]
  },
  {
   "cell_type": "code",
   "execution_count": 9,
   "metadata": {
    "scrolled": true
   },
   "outputs": [
    {
     "name": "stdout",
     "output_type": "stream",
     "text": [
      "['Once', 'I', 'was', 'seven', 'years', 'old', 'my', 'mama', 'told', 'me', 'Go', 'make', 'yourself', 'some', 'friend', 'or', 'you', 'll', 'be', 'lonely', 'Once', 'I', 'was', 'seven', 'years', 'old', 'It', 'was', 'a', 'big', 'big', 'world', 'but', 'we', 'thought', 'we', 'were', 'bigger', 'Pushing', 'each', 'other', 'to', 'the', 'limits', 'we', 'were', 'learning', 'quicker', 'By', 'eleven', 'smoking', 'herb', 'and', 'drinking', 'burning', 'liquor', 'Never', 'rich', 'so', 'we', 'were', 'out', 'to', 'make', 'that', 'steady', 'figure', 'Once', 'I', 'was', 'eleven', 'years', 'old', 'My', 'daddy', 'told', 'me', 'Go', 'get', 'yourself', 'a', 'wife', 'or', 'you', 'll', 'be', 'lonely', 'Once', 'I', 'was', 'eleven', 'years', 'old', 'I', 'always', 'had', 'that', 'dream', 'like', 'my', 'daddy', 'before', 'me', 'So', 'I', 'started', 'writing', 'songs', 'I', 'started', 'writing', 'stories', 'Something', 'about', 'that', 'glory', 'Just', 'always', 'seemed', 'to', 'bore', 'me', 'Cause', 'only', 'those', 'I', 'really', 'love', 'will', 'ever', 'really', 'know', 'me', 'Once', 'I', 'was', 'twenty', 'years', 'old', 'My', 'story', 'got', 'told', 'Before', 'the', 'morning', 'sun', 'when', 'life', 'was', 'lonely', 'Once', 'I', 'was', 'twenty', 'years', 'old']\n"
     ]
    }
   ],
   "source": [
    "from nltk.tokenize import RegexpTokenizer\n",
    "\n",
    "print(RegexpTokenizer('\\w+').tokenize(text))"
   ]
  },
  {
   "cell_type": "markdown",
   "metadata": {},
   "source": [
    "### 문장들도 토큰화할 수 있다.(문장별로 나눠서 리스트화)"
   ]
  },
  {
   "cell_type": "code",
   "execution_count": 10,
   "metadata": {},
   "outputs": [
    {
     "name": "stdout",
     "output_type": "stream",
     "text": [
      "[\"Once I was seven years old\\nmy mama told me\\nGo make yourself some friend\\nor you'll be lonely\\nOnce I was seven years old\\n\\nIt was a big big world\\nbut we thought we were bigger\\nPushing each other to the limits\\nwe were learning quicker\\nBy eleven smoking herb\\nand drinking burning liquor\\nNever rich so we were out\\nto make that steady figure\\n\\nOnce I was eleven years old\\nMy daddy told me\\nGo get yourself a wife\\nor you'll be lonely\\nOnce I was eleven years old\\n\\nI always had that dream\\nlike my daddy before me\\nSo I started writing songs\\nI started writing stories\\nSomething about that glory\\nJust always seemed to bore me\\n'Cause only those I really love\\nwill ever really know me\\n\\nOnce I was twenty years old\\nMy story got told\\nBefore the morning sun\\nwhen life was lonely\\nOnce I was twenty years old\"]\n"
     ]
    }
   ],
   "source": [
    "from nltk.tokenize import sent_tokenize\n",
    "\n",
    "print(sent_tokenize(text))"
   ]
  },
  {
   "cell_type": "markdown",
   "metadata": {},
   "source": [
    "### 한국어를 위한 토크나이저? \n",
    "- 한국어를 위한 단어 토크나이저 : konlpy\n",
    "- 한국어를 위한 문장 토크나이저 : kss"
   ]
  },
  {
   "cell_type": "code",
   "execution_count": 11,
   "metadata": {},
   "outputs": [
    {
     "name": "stdout",
     "output_type": "stream",
     "text": [
      "['안녕하세요', '?', '저', '는', '이', '윤환', '입니다', '.']\n",
      "['안녕하세요?', '저는 이윤환입니다.']\n"
     ]
    }
   ],
   "source": [
    "from konlpy.tag import Okt, Kkma\n",
    "import kss\n",
    "# Kkma는 어간까지 분리한다.\n",
    "\n",
    "ktext = \"안녕하세요? 저는 이윤환입니다.\"\n",
    "print(Okt().morphs(ktext))\n",
    "print(kss.split_sentences(ktext))"
   ]
  },
  {
   "cell_type": "markdown",
   "metadata": {},
   "source": [
    "### -ing나 복수형에 대해서 원래 단어를 찾아야 의미를 정확히 파악가능"
   ]
  },
  {
   "cell_type": "code",
   "execution_count": 12,
   "metadata": {},
   "outputs": [
    {
     "name": "stdout",
     "output_type": "stream",
     "text": [
      "onc\n",
      "I\n",
      "wa\n",
      "seven\n",
      "year\n",
      "old\n",
      "my\n",
      "mama\n",
      "told\n",
      "me\n",
      "Go\n",
      "make\n",
      "yourself\n",
      "some\n",
      "friend\n",
      "or\n",
      "you\n",
      "'ll\n",
      "be\n",
      "lone\n",
      "onc\n",
      "I\n",
      "wa\n",
      "seven\n",
      "year\n",
      "old\n",
      "It\n",
      "wa\n",
      "a\n",
      "big\n",
      "big\n",
      "world\n",
      "but\n",
      "we\n",
      "thought\n",
      "we\n",
      "were\n",
      "bigger\n",
      "push\n",
      "each\n",
      "other\n",
      "to\n",
      "the\n",
      "limit\n",
      "we\n",
      "were\n",
      "learn\n",
      "quicker\n",
      "By\n",
      "eleven\n",
      "smoke\n",
      "herb\n",
      "and\n",
      "drink\n",
      "burn\n",
      "liquor\n",
      "never\n",
      "rich\n",
      "so\n",
      "we\n",
      "were\n",
      "out\n",
      "to\n",
      "make\n",
      "that\n",
      "steadi\n",
      "figur\n",
      "onc\n",
      "I\n",
      "wa\n",
      "eleven\n",
      "year\n",
      "old\n",
      "My\n",
      "daddi\n",
      "told\n",
      "me\n",
      "Go\n",
      "get\n",
      "yourself\n",
      "a\n",
      "wife\n",
      "or\n",
      "you\n",
      "'ll\n",
      "be\n",
      "lone\n",
      "onc\n",
      "I\n",
      "wa\n",
      "eleven\n",
      "year\n",
      "old\n",
      "I\n",
      "alway\n",
      "had\n",
      "that\n",
      "dream\n",
      "like\n",
      "my\n",
      "daddi\n",
      "befor\n",
      "me\n",
      "So\n",
      "I\n",
      "start\n",
      "write\n",
      "song\n",
      "I\n",
      "start\n",
      "write\n",
      "stori\n",
      "someth\n",
      "about\n",
      "that\n",
      "glori\n",
      "just\n",
      "alway\n",
      "seem\n",
      "to\n",
      "bore\n",
      "me\n",
      "'caus\n",
      "onli\n",
      "those\n",
      "I\n",
      "realli\n",
      "love\n",
      "will\n",
      "ever\n",
      "realli\n",
      "know\n",
      "me\n",
      "onc\n",
      "I\n",
      "wa\n",
      "twenti\n",
      "year\n",
      "old\n",
      "My\n",
      "stori\n",
      "got\n",
      "told\n",
      "befor\n",
      "the\n",
      "morn\n",
      "sun\n",
      "when\n",
      "life\n",
      "wa\n",
      "lone\n",
      "onc\n",
      "I\n",
      "wa\n",
      "twenti\n",
      "year\n",
      "old\n"
     ]
    }
   ],
   "source": [
    "from nltk.stem import  PorterStemmer\n",
    "\n",
    "words = word_tokenize(text)\n",
    "for word in words:\n",
    "    print(PorterStemmer().stem(word)) # stem을 통해서 해당하는 어간만 추출이 가능하다."
   ]
  },
  {
   "cell_type": "markdown",
   "metadata": {},
   "source": [
    "### is, not, an 과 같은 단어는 문장에성 의미를 구성하는데 큰 역할을 하지 않는다. 이런단어를 stopword=불용어라고 한다."
   ]
  },
  {
   "cell_type": "code",
   "execution_count": 13,
   "metadata": {},
   "outputs": [
    {
     "name": "stderr",
     "output_type": "stream",
     "text": [
      "[nltk_data] Downloading package stopwords to\n",
      "[nltk_data]     C:\\Users\\MyLaptop\\AppData\\Roaming\\nltk_data...\n",
      "[nltk_data]   Package stopwords is already up-to-date!\n"
     ]
    },
    {
     "data": {
      "text/plain": [
       "True"
      ]
     },
     "execution_count": 13,
     "metadata": {},
     "output_type": "execute_result"
    }
   ],
   "source": [
    "nltk.download('stopwords')"
   ]
  },
  {
   "cell_type": "code",
   "execution_count": 17,
   "metadata": {
    "scrolled": true
   },
   "outputs": [
    {
     "name": "stdout",
     "output_type": "stream",
     "text": [
      "['i', 'me', 'my', 'myself', 'we', 'our', 'ours', 'ourselves', 'you', \"you're\", \"you've\", \"you'll\", \"you'd\", 'your', 'yours', 'yourself', 'yourselves', 'he', 'him', 'his', 'himself', 'she', \"she's\", 'her', 'hers', 'herself', 'it', \"it's\", 'its', 'itself', 'they', 'them', 'their', 'theirs', 'themselves', 'what', 'which', 'who', 'whom', 'this', 'that', \"that'll\", 'these', 'those', 'am', 'is', 'are', 'was', 'were', 'be', 'been', 'being', 'have', 'has', 'had', 'having', 'do', 'does', 'did', 'doing', 'a', 'an', 'the', 'and', 'but', 'if', 'or', 'because', 'as', 'until', 'while', 'of', 'at', 'by', 'for', 'with', 'about', 'against', 'between', 'into', 'through', 'during', 'before', 'after', 'above', 'below', 'to', 'from', 'up', 'down', 'in', 'out', 'on', 'off', 'over', 'under', 'again', 'further', 'then', 'once', 'here', 'there', 'when', 'where', 'why', 'how', 'all', 'any', 'both', 'each', 'few', 'more', 'most', 'other', 'some', 'such', 'no', 'nor', 'not', 'only', 'own', 'same', 'so', 'than', 'too', 'very', 's', 't', 'can', 'will', 'just', 'don', \"don't\", 'should', \"should've\", 'now', 'd', 'll', 'm', 'o', 're', 've', 'y', 'ain', 'aren', \"aren't\", 'couldn', \"couldn't\", 'didn', \"didn't\", 'doesn', \"doesn't\", 'hadn', \"hadn't\", 'hasn', \"hasn't\", 'haven', \"haven't\", 'isn', \"isn't\", 'ma', 'mightn', \"mightn't\", 'mustn', \"mustn't\", 'needn', \"needn't\", 'shan', \"shan't\", 'shouldn', \"shouldn't\", 'wasn', \"wasn't\", 'weren', \"weren't\", 'won', \"won't\", 'wouldn', \"wouldn't\"]\n"
     ]
    }
   ],
   "source": [
    "print(sw) # 불용어모음"
   ]
  },
  {
   "cell_type": "code",
   "execution_count": 18,
   "metadata": {},
   "outputs": [
    {
     "name": "stdout",
     "output_type": "stream",
     "text": [
      "['Once', 'I', 'was', 'seven', 'years', 'old', 'my', 'mama', 'told', 'me', 'Go', 'make', 'yourself', 'some', 'friend', 'or', 'you', \"'ll\", 'be', 'lonely', 'Once', 'I', 'was', 'seven', 'years', 'old', 'It', 'was', 'a', 'big', 'big', 'world', 'but', 'we', 'thought', 'we', 'were', 'bigger', 'Pushing', 'each', 'other', 'to', 'the', 'limits', 'we', 'were', 'learning', 'quicker', 'By', 'eleven', 'smoking', 'herb', 'and', 'drinking', 'burning', 'liquor', 'Never', 'rich', 'so', 'we', 'were', 'out', 'to', 'make', 'that', 'steady', 'figure', 'Once', 'I', 'was', 'eleven', 'years', 'old', 'My', 'daddy', 'told', 'me', 'Go', 'get', 'yourself', 'a', 'wife', 'or', 'you', \"'ll\", 'be', 'lonely', 'Once', 'I', 'was', 'eleven', 'years', 'old', 'I', 'always', 'had', 'that', 'dream', 'like', 'my', 'daddy', 'before', 'me', 'So', 'I', 'started', 'writing', 'songs', 'I', 'started', 'writing', 'stories', 'Something', 'about', 'that', 'glory', 'Just', 'always', 'seemed', 'to', 'bore', 'me', \"'Cause\", 'only', 'those', 'I', 'really', 'love', 'will', 'ever', 'really', 'know', 'me', 'Once', 'I', 'was', 'twenty', 'years', 'old', 'My', 'story', 'got', 'told', 'Before', 'the', 'morning', 'sun', 'when', 'life', 'was', 'lonely', 'Once', 'I', 'was', 'twenty', 'years', 'old']\n"
     ]
    }
   ],
   "source": [
    "print(words) # 내가 토크나이저한 단어 모음"
   ]
  },
  {
   "cell_type": "markdown",
   "metadata": {},
   "source": [
    "### for문과 not in을 이용하여 words에 불용어를 제거"
   ]
  },
  {
   "cell_type": "code",
   "execution_count": 16,
   "metadata": {},
   "outputs": [
    {
     "name": "stdout",
     "output_type": "stream",
     "text": [
      "['seven', 'years', 'old', 'mama', 'told', 'Go', 'make', 'friend', \"'ll\", 'lonely', 'seven', 'years', 'old', 'big', 'big', 'world', 'thought', 'bigger', 'Pushing', 'limits', 'learning', 'quicker', 'eleven', 'smoking', 'herb', 'drinking', 'burning', 'liquor', 'Never', 'rich', 'make', 'steady', 'figure', 'eleven', 'years', 'old', 'daddy', 'told', 'Go', 'get', 'wife', \"'ll\", 'lonely', 'eleven', 'years', 'old', 'always', 'dream', 'like', 'daddy', 'started', 'writing', 'songs', 'started', 'writing', 'stories', 'Something', 'glory', 'always', 'seemed', 'bore', \"'Cause\", 'really', 'love', 'ever', 'really', 'know', 'twenty', 'years', 'old', 'story', 'got', 'told', 'morning', 'sun', 'life', 'lonely', 'twenty', 'years', 'old']\n"
     ]
    }
   ],
   "source": [
    "from nltk.corpus import stopwords\n",
    "\n",
    "sw = stopwords.words('english')\n",
    "# sw = ['.', '.']\n",
    "sw_remove= [] \n",
    "\n",
    "for i in words:\n",
    "    if i.lower() not in sw:\n",
    "        sw_remove.append(i)\n",
    "\n",
    "print(sw_remove)"
   ]
  },
  {
   "cell_type": "markdown",
   "metadata": {},
   "source": [
    "### 컴퓨터는 영어로된 텍스트를 읽을수가 없으므로 임베딩작업이 필요"
   ]
  },
  {
   "cell_type": "code",
   "execution_count": 19,
   "metadata": {},
   "outputs": [
    {
     "name": "stdout",
     "output_type": "stream",
     "text": [
      "Counter({'years': 6, 'old': 6, 'told': 3, 'lonely': 3, 'eleven': 3, 'seven': 2, 'Go': 2, 'make': 2, \"'ll\": 2, 'big': 2, 'daddy': 2, 'always': 2, 'started': 2, 'writing': 2, 'really': 2, 'twenty': 2, 'mama': 1, 'friend': 1, 'world': 1, 'thought': 1, 'bigger': 1, 'Pushing': 1, 'limits': 1, 'learning': 1, 'quicker': 1, 'smoking': 1, 'herb': 1, 'drinking': 1, 'burning': 1, 'liquor': 1, 'Never': 1, 'rich': 1, 'steady': 1, 'figure': 1, 'get': 1, 'wife': 1, 'dream': 1, 'like': 1, 'songs': 1, 'stories': 1, 'Something': 1, 'glory': 1, 'seemed': 1, 'bore': 1, \"'Cause\": 1, 'love': 1, 'ever': 1, 'know': 1, 'story': 1, 'got': 1, 'morning': 1, 'sun': 1, 'life': 1})\n"
     ]
    }
   ],
   "source": [
    "from collections import Counter\n",
    "\n",
    "count_list = Counter(sw_remove) # 가장기본적으로 빈도수대로 인덱스를 부여하는것!\n",
    "print(count_list)"
   ]
  },
  {
   "cell_type": "code",
   "execution_count": 20,
   "metadata": {},
   "outputs": [
    {
     "name": "stdout",
     "output_type": "stream",
     "text": [
      "[('years', 6), ('old', 6), ('told', 3), ('lonely', 3), ('eleven', 3), ('seven', 2), ('Go', 2), ('make', 2), (\"'ll\", 2), ('big', 2)]\n"
     ]
    }
   ],
   "source": [
    "# 빈도수가 1인것들은 의미가 없을 가능성이 높으므로 상위 n개만 저장한다.\n",
    "common_c1 = count_list.most_common(10)\n",
    "print(common_c1)"
   ]
  },
  {
   "cell_type": "code",
   "execution_count": 21,
   "metadata": {},
   "outputs": [
    {
     "name": "stdout",
     "output_type": "stream",
     "text": [
      "{'years': 0, 'old': 1, 'told': 2, 'lonely': 3, 'eleven': 4, 'seven': 5, 'Go': 6, 'make': 7, \"'ll\": 8, 'big': 9}\n"
     ]
    }
   ],
   "source": [
    "# 빈도수가 높은 단어에 대해서 낮은 정수 인덱스를 부여한 딕셔너리 만들기\n",
    "\n",
    "common_dic = {}\n",
    "i = 0\n",
    "\n",
    "for (key, value) in common_c1:\n",
    "    common_dic[key] = i\n",
    "    i+=1\n",
    "\n",
    "# common_dic에서의 value는 빈도수가 아니라, 빈도순위를 나타냄\n",
    "print(common_dic)"
   ]
  },
  {
   "cell_type": "code",
   "execution_count": 22,
   "metadata": {},
   "outputs": [
    {
     "name": "stdout",
     "output_type": "stream",
     "text": [
      "[[1, 0, 0, 0, 0, 0, 0, 0, 0, 0], [0, 1, 0, 0, 0, 0, 0, 0, 0, 0], [0, 0, 1, 0, 0, 0, 0, 0, 0, 0], [0, 0, 0, 1, 0, 0, 0, 0, 0, 0], [0, 0, 0, 0, 1, 0, 0, 0, 0, 0], [0, 0, 0, 0, 0, 1, 0, 0, 0, 0], [0, 0, 0, 0, 0, 0, 1, 0, 0, 0], [0, 0, 0, 0, 0, 0, 0, 1, 0, 0], [0, 0, 0, 0, 0, 0, 0, 0, 1, 0], [0, 0, 0, 0, 0, 0, 0, 0, 0, 1]]\n"
     ]
    }
   ],
   "source": [
    "# 인덱스에 해당하는 인덱스만 1로 부여하는 one_hot벡터를 만드세요.\n",
    "\n",
    "one_hot_lst = []\n",
    "\n",
    "for value in common_dic.values():\n",
    "    one_hot_vector = [0] * len(common_dic)\n",
    "    one_hot_vector[value] = 1\n",
    "    one_hot_lst.append(one_hot_vector)\n",
    "\n",
    "print(one_hot_lst)"
   ]
  },
  {
   "cell_type": "code",
   "execution_count": 23,
   "metadata": {},
   "outputs": [
    {
     "data": {
      "image/png": "[encoded data removed]",
      "text/plain": [
       "<Figure size 432x288 with 1 Axes>"
      ]
     },
     "metadata": {
      "needs_background": "light"
     },
     "output_type": "display_data"
    }
   ],
   "source": [
    "# 빈도수를 이용하여 Wordcloud로 나타내기\n",
    "import matplotlib.pyplot as plt\n",
    "from wordcloud import WordCloud\n",
    "\n",
    "my_wc = WordCloud(background_color='white')\n",
    "plt.imshow(my_wc.generate_from_frequencies(count_list))\n",
    "plt.show()"
   ]
  }
 ],
 "metadata": {
  "kernelspec": {
   "display_name": "Python 3",
   "language": "python",
   "name": "python3"
  },
  "language_info": {
   "codemirror_mode": {
    "name": "ipython",
    "version": 3
   },
   "file_extension": ".py",
   "mimetype": "text/x-python",
   "name": "python",
   "nbconvert_exporter": "python",
   "pygments_lexer": "ipython3",
   "version": "3.7.6"
  }
 },
 "nbformat": 4,
 "nbformat_minor": 4
}
