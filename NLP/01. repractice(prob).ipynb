{
 "cells": [
  {
   "cell_type": "markdown",
   "metadata": {},
   "source": [
    "1. \\['abbbbba', 'cddb', 'aerb', 'aeeeb', 'almnj']\n",
    "(모두 문자열)일 때 1, 3번째만 True를 리턴하는 정규표현식을 작성하시오"
   ]
  },
  {
   "cell_type": "code",
   "execution_count": 2,
   "metadata": {
    "tags": []
   },
   "outputs": [
    {
     "name": "stdout",
     "output_type": "stream",
     "text": [
      "<re.Match object; span=(0, 4), match='abbb'>\n",
      "None\n",
      "<re.Match object; span=(0, 4), match='aerb'>\n",
      "None\n",
      "None\n"
     ]
    }
   ],
   "source": [
    "import re\n",
    "\n",
    "lst = ['abbbbba', 'cddb', 'aerb', 'aeeeb', 'almnj'] \n",
    "p = re.compile('a.{2}b')\n",
    "\n",
    "for i in lst:\n",
    "    result = p.match(i)\n",
    "    print(result)"
   ]
  },
  {
   "cell_type": "markdown",
   "metadata": {},
   "source": [
    "2. \\['abcd efghopqr-stuv', 'abcd-efgh', 'abc defghijk', 'ab cdhijk'] 일 때 1, 3, 4번째만 match되도록 정규표현식을 작성하시오."
   ]
  },
  {
   "cell_type": "code",
   "execution_count": 23,
   "metadata": {
    "tags": []
   },
   "outputs": [
    {
     "name": "stdout",
     "output_type": "stream",
     "text": [
      "<re.Match object; span=(0, 18), match='abcd efghopqr-stuv'>\n",
      "None\n",
      "<re.Match object; span=(0, 12), match='abc defghijk'>\n",
      "<re.Match object; span=(0, 9), match='ab cdhijk'>\n"
     ]
    }
   ],
   "source": [
    "lst = ['abcd efghopqr-stuv', 'abcd-efgh', 'abc defghijk', 'ab cdhijk']\n",
    "p = re.compile(r'.+\\s.+')\n",
    "\n",
    "for i in lst:\n",
    "    print(p.match(i))"
   ]
  },
  {
   "cell_type": "markdown",
   "metadata": {},
   "source": [
    "3. 그룹을 사용해서 \\['코끼리는 코끼리', '강아지는 강아지', '고양이는 고양이'] 모두에게 True를 리턴하는 정규표현식을 작성하고, 주어들을 순서대로 출력하세요."
   ]
  },
  {
   "cell_type": "code",
   "execution_count": 33,
   "metadata": {
    "tags": []
   },
   "outputs": [
    {
     "name": "stdout",
     "output_type": "stream",
     "text": [
      "코끼리는 코끼리\n",
      "강아지는 강아지\n",
      "고양이는 고양이\n"
     ]
    }
   ],
   "source": [
    "lst = ['코끼리는 코끼리', '강아지는 강아지', '고양이는 고양이']\n",
    "p = re.compile(r'(?P<Animal>.+)는\\s\\1')\n",
    "\n",
    "for i in lst:\n",
    "    print(p.match(i).group())"
   ]
  },
  {
   "cell_type": "markdown",
   "metadata": {},
   "source": [
    "4. \\['김준태 - 학점 2.0', '이재화 - 학점 3.0', '최주원 - 학점 4.0']에서 학점을 모두 4.5로 바꿔주세요!"
   ]
  },
  {
   "cell_type": "code",
   "execution_count": 38,
   "metadata": {
    "tags": []
   },
   "outputs": [
    {
     "name": "stdout",
     "output_type": "stream",
     "text": [
      "<re.Match object; span=(0, 12), match='김준태 - 학점 2.0'>\n",
      "김준태 - 학점 4.5\n",
      "<re.Match object; span=(0, 12), match='이재화 - 학점 3.0'>\n",
      "이재화 - 학점 4.5\n",
      "<re.Match object; span=(0, 12), match='최주원 - 학점 4.0'>\n",
      "최주원 - 학점 4.5\n"
     ]
    }
   ],
   "source": [
    "lst = ['김준태 - 학점 2.0', '이재화 - 학점 3.0', '최주원 - 학점 4.0']\n",
    "\n",
    "p = re.compile(r'(?P<name>\\w+)\\s.+')\n",
    "\n",
    "for i in lst:\n",
    "    print(p.match(i))\n",
    "    print(p.sub('\\g<name> - 학점 4.5', i))"
   ]
  },
  {
   "cell_type": "markdown",
   "metadata": {},
   "source": [
    "5. <div id=\"u_skip\"> <a href=\"#newsstand\"><span>뉴스스탠드 바로가기</span></a> <a href=\"#themecast\"><span>주제별캐스트 바로가기</span></a> <a href=\"#timesquare\"><span>타임스퀘어 바로가기</span></a> <a href=\"#shopcast\"><span>쇼핑캐스트 바로가기</span></a> <a href=\"#account\"><span>로그인 바로가기</span></a> </div> 에서 사용된 모든 태그(<>)를 출력하세요. "
   ]
  },
  {
   "cell_type": "code",
   "execution_count": 52,
   "metadata": {
    "tags": []
   },
   "outputs": [
    {
     "name": "stdout",
     "output_type": "stream",
     "text": [
      "['<div id=\"u_skip\">', '<a href=\"#newsstand\">', '<span>', '</span>', '</a>', '<a href=\"#themecast\">', '<span>', '</span>', '</a>', '<a href=\"#timesquare\">', '<span>', '</span>', '</a>', '<a href=\"#shopcast\">', '<span>', '</span>', '</a>', '<a href=\"#account\">', '<span>', '</span>', '</a>', '</div>']\n"
     ]
    }
   ],
   "source": [
    "import re\n",
    "\n",
    "a = '<div id=\"u_skip\"> <a href=\"#newsstand\"><span>뉴스스탠드 바로가기</span></a> <a href=\"#themecast\"><span>주제별캐스트 바로가기</span></a> <a href=\"#timesquare\"><span>타임스퀘어 바로가기</span></a> <a href=\"#shopcast\"><span>쇼핑캐스트 바로가기</span></a> <a href=\"#account\"><span>로그인 바로가기</span></a> </div>'\n",
    "p = re.compile('<.+?>')\n",
    "\n",
    "print(p.findall(a))"
   ]
  },
  {
   "cell_type": "markdown",
   "metadata": {},
   "source": [
    "6. '1100+1200+1300+1800=5400' 이라는 문장에서 등호표시 전의 숫자만 8진법으로 변경하세요."
   ]
  },
  {
   "cell_type": "code",
   "execution_count": 54,
   "metadata": {
    "tags": []
   },
   "outputs": [
    {
     "name": "stdout",
     "output_type": "stream",
     "text": [
      "0o2114+0o2260+0o2424+0o3410=5400\n"
     ]
    }
   ],
   "source": [
    "a = '1100+1200+1300+1800=5400'\n",
    "\n",
    "def octa(match):\n",
    "    a = int(match.group())\n",
    "    return oct(a)\n",
    "\n",
    "p = re.compile('1\\d{3}')\n",
    "\n",
    "print(p.sub(octa, a))\n",
    "\n",
    "# a에서 매치된것을 우선적으로 찾는다"
   ]
  },
  {
   "cell_type": "markdown",
   "metadata": {},
   "source": [
    "7. \\['https://naver.com', 'https://korea.ac.kr', 'https://www.google.com', 'google.com', 'https://facebook.com', 'naver.com'] 에서 https로 시작하고, www.이 없고, 마지막이 .com으로 끝나는 주소만 True를 리턴하는 정규표현식을 작성하세요."
   ]
  },
  {
   "cell_type": "code",
   "execution_count": 56,
   "metadata": {
    "tags": []
   },
   "outputs": [
    {
     "name": "stdout",
     "output_type": "stream",
     "text": [
      "<re.Match object; span=(0, 17), match='https://naver.com'>\n",
      "None\n",
      "None\n",
      "None\n",
      "<re.Match object; span=(0, 20), match='https://facebook.com'>\n",
      "None\n"
     ]
    }
   ],
   "source": [
    "a = ['https://naver.com', 'https://korea.ac.kr', 'https://www.google.com', 'google.com', 'https://facebook.com', 'naver.com']\n",
    "p = re.compile('^https://[^www]+.com$')\n",
    "\n",
    "for i in a:\n",
    "    matched = p.match(i)\n",
    "    print(matched)"
   ]
  },
  {
   "cell_type": "markdown",
   "metadata": {},
   "source": [
    "8. a = '''mike 010-1234-0907 mikeman@naver.com hi! my name is mike!\n",
    "jay 010-1112-3456 jayman@naver.com hi! my name is jay!\n",
    "yohan 010-2223-5874 yohanman@naver.com hi! my name is yohan!'''\n",
    "위 문장에서 순서 배치를 전화번호, 이메일, 자기소개, 이름 순서로 변경하시오."
   ]
  },
  {
   "cell_type": "code",
   "execution_count": 15,
   "metadata": {
    "tags": []
   },
   "outputs": [
    {
     "name": "stdout",
     "output_type": "stream",
     "text": [
      "010-1234-0907 mikeman@naver.com hi! my name is mike! mike010-1112-3456 jayman@naver.com hi! my name is jay! jayyohan 010-2223-5874 yohanman@naver.com hi! my name is yohan!\n"
     ]
    }
   ],
   "source": [
    "import re\n",
    "\n",
    "a = '''mike 010-1234-0907 mikeman@naver.com hi! my name is mike!\n",
    "jay 010-1112-3456 jayman@naver.com hi! my name is jay!\n",
    "yohan 010-2223-5874 yohanman@naver.com hi! my name is yohan!'''\n",
    "\n",
    "p = re.compile(r'(?P<name>\\w+)\\s(?P<num>\\d+.\\d+.\\d+)\\s(?P<email>\\w+.\\w+.com)\\s(?P<myself>.+)\\n')\n",
    "\n",
    "print(p.sub(r'\\g<num> \\g<email> \\g<myself> \\g<name>', a))"
   ]
  }
 ],
 "metadata": {
  "kernelspec": {
   "display_name": "Python 3",
   "language": "python",
   "name": "python3"
  },
  "language_info": {
   "codemirror_mode": {
    "name": "ipython",
    "version": 3
   },
   "file_extension": ".py",
   "mimetype": "text/x-python",
   "name": "python",
   "nbconvert_exporter": "python",
   "pygments_lexer": "ipython3",
   "version": "3.7.6"
  }
 },
 "nbformat": 4,
 "nbformat_minor": 2
}
