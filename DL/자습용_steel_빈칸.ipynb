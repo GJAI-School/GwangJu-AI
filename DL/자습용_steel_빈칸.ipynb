{
 "cells": [
  {
   "cell_type": "code",
   "execution_count": 2,
   "metadata": {},
   "outputs": [],
   "source": [
    "%run ./AI_abalone.ipynb"
   ]
  },
  {
   "cell_type": "markdown",
   "metadata": {},
   "source": [
    "## A.1 메인함수 정의"
   ]
  },
  {
   "cell_type": "code",
   "execution_count": 2,
   "metadata": {},
   "outputs": [],
   "source": [
    "def steel_exec(epoch_count=10, mb_size = 10, report =1):\n",
    "    load_steel_dataset()\n",
    "    init_model()\n",
    "    train_and_test(epoch_count,mb_size,report)"
   ]
  },
  {
   "cell_type": "markdown",
   "metadata": {},
   "source": [
    "## B.1 데이터 적재 함수 정의"
   ]
  },
  {
   "cell_type": "code",
   "execution_count": 3,
   "metadata": {},
   "outputs": [],
   "source": [
    "def load_steel_dataset():\n",
    "    with open('faults.csv') as csvfile:\n",
    "        csvreader = csv.reader(csvfile)\n",
    "        next(csvreader, None)\n",
    "        rows = []\n",
    "        for row in csvreader:\n",
    "            rows.append(row)\n",
    "            \n",
    "    global data, input_cnt, output_cnt\n",
    "    \n",
    "    input_cnt, output_cnt = 27, 7   \n",
    "    data = np.asarray(rows, dtype='float32')"
   ]
  },
  {
   "cell_type": "markdown",
   "metadata": {},
   "source": [
    "## D.2 E.2 후처리 과정에 대한 순전파와 역전파 함수의 재정의 "
   ]
  },
  {
   "cell_type": "code",
   "execution_count": 4,
   "metadata": {},
   "outputs": [],
   "source": [
    "def forward_postproc(output, y):\n",
    "    entropy = softmax(y, output) \n",
    "    loss = np.mean(entropy) \n",
    "    return loss, [y, output, entropy] \n",
    "\n",
    "\n",
    "def backprop_postproc(G_loss, aux): \n",
    "    y, output, entropy = aux \n",
    "    g_loss_entropy = 1.0 / np.prob(entropy.shape)\n",
    "    g_entropy_output = softmax_cross_entropy_with_logit_derv(y,output) \n",
    "\n",
    "    G_entropy = g_loss_entropy * G_loss\n",
    "    G_output = g_entropy_output * G_entropy\n",
    "    \n",
    "    return G_output"
   ]
  },
  {
   "cell_type": "markdown",
   "metadata": {},
   "source": [
    "## D.3 정확도 계산 함수 정의"
   ]
  },
  {
   "cell_type": "code",
   "execution_count": 5,
   "metadata": {},
   "outputs": [],
   "source": [
    "def eval_accuracy(output, y): \n",
    "    estimate = np.argmax(output, axis=1)\n",
    "    answer = np.argmax(y, axis = 1) \n",
    "    correct = np.equal(estimate, answer)\n",
    "    \n",
    "    return np.mean(correct)  "
   ]
  },
  {
   "cell_type": "markdown",
   "metadata": {},
   "source": [
    "## F.1~3 소프트맥스 관련 함수 정의"
   ]
  },
  {
   "cell_type": "code",
   "execution_count": 6,
   "metadata": {},
   "outputs": [],
   "source": [
    "def softmax(x): \n",
    "    max_elem = np.max(x, axis=1) \n",
    "    diff = (x.transpose() - max_elem).transpose()\n",
    "    exp = np.exp(diff) \n",
    "    sum_exp = np.sum(exp, axis=1)\n",
    "    probs = (exp.transpose()/sum_exp).transpose() \n",
    "    return probs  \n",
    "\n",
    "def softmax_cross_entropy_with_logits(labels, logits):\n",
    "    probs = softmax(logits) \n",
    "    return -np.sum(labels * np.log(probs + 1.0e - 10), axis=1)\n",
    "    \n",
    "def softmax_cross_entropy_with_logits_derv(labels, logits):\n",
    "    return softmax(logits) - labels"
   ]
  },
  {
   "cell_type": "markdown",
   "metadata": {},
   "source": [
    "## 실행하기"
   ]
  },
  {
   "cell_type": "code",
   "execution_count": null,
   "metadata": {},
   "outputs": [],
   "source": [
    "steel_exec()"
   ]
  },
  {
   "cell_type": "code",
   "execution_count": null,
   "metadata": {},
   "outputs": [],
   "source": [
    "LEARNING_RATE = 0.0001\n",
    "steel_exec()"
   ]
  }
 ],
 "metadata": {
  "kernelspec": {
   "display_name": "Python 3",
   "language": "python",
   "name": "python3"
  },
  "language_info": {
   "codemirror_mode": {
    "name": "ipython",
    "version": 3
   },
   "file_extension": ".py",
   "mimetype": "text/x-python",
   "name": "python",
   "nbconvert_exporter": "python",
   "pygments_lexer": "ipython3",
   "version": "3.7.6"
  }
 },
 "nbformat": 4,
 "nbformat_minor": 2
}
