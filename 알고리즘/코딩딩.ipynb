{
 "cells": [
  {
   "cell_type": "markdown",
   "metadata": {},
   "source": [
    "### 나머지와 몫이 같은 경우의 합"
   ]
  },
  {
   "cell_type": "code",
   "execution_count": 41,
   "metadata": {},
   "outputs": [
    {
     "name": "stdout",
     "output_type": "stream",
     "text": [
      "30\n"
     ]
    }
   ],
   "source": [
    "n = 4\n",
    "result = 0\n",
    "\n",
    "for i in range(1, n):\n",
    "    result += n*i+i\n",
    "print(result)"
   ]
  },
  {
   "cell_type": "code",
   "execution_count": 1,
   "metadata": {},
   "outputs": [
    {
     "name": "stdout",
     "output_type": "stream",
     "text": [
      "30\n"
     ]
    }
   ],
   "source": [
    "# 0~n까지의 합을 이용 n(n+1)/2 식을 이용하여 접근\n",
    "n = 4\n",
    "\n",
    "result = n*(n+1)*(n-1) // 2\n",
    "print(result)"
   ]
  },
  {
   "cell_type": "markdown",
   "metadata": {},
   "source": [
    "### 휴식을 위하여"
   ]
  },
  {
   "cell_type": "code",
   "execution_count": 3,
   "metadata": {},
   "outputs": [
    {
     "name": "stdout",
     "output_type": "stream",
     "text": [
      "공사반경을 입력하세요 :20 10 10\n",
      "몇번입력할지 입력하세요 :3\n",
      "좌표를 입력하세요 :25 10\n",
      "noisy\n",
      "좌표를 입력하세요 :20 15\n",
      "noisy\n",
      "좌표를 입력하세요 :70 70\n",
      "slient\n"
     ]
    }
   ],
   "source": [
    "a, b, R = map(int, input(\"공사반경을 입력하세요 :\").split())\n",
    "n = int(input(\"몇번입력할지 입력하세요 :\"))\n",
    "\n",
    "for i in range(n):\n",
    "    x, y = map(int, input(\"좌표를 입력하세요 :\").split())\n",
    "    if (x - a) + (y - b) > R:\n",
    "        print('slient')\n",
    "    else:\n",
    "        print('noisy')"
   ]
  },
  {
   "cell_type": "markdown",
   "metadata": {},
   "source": [
    "### 약수구하기"
   ]
  },
  {
   "cell_type": "code",
   "execution_count": 5,
   "metadata": {},
   "outputs": [
    {
     "name": "stdout",
     "output_type": "stream",
     "text": [
      "100\n",
      "[1, 2, 4, 5, 10, 20, 25, 50, 100]\n"
     ]
    }
   ],
   "source": [
    "n = int(input())\n",
    "lst = []\n",
    "        \n",
    "for i in range(1, n+1):\n",
    "    if n % i == 0:\n",
    "        lst.append(i)\n",
    "print(lst)   "
   ]
  },
  {
   "cell_type": "code",
   "execution_count": 4,
   "metadata": {},
   "outputs": [
    {
     "name": "stdout",
     "output_type": "stream",
     "text": [
      "100\n",
      "[1, 2, 4, 5, 10, 20, 25, 50, 100]\n"
     ]
    }
   ],
   "source": [
    "n = int(input())\n",
    "lst = []\n",
    "i = 1 \n",
    "\n",
    "while i*i <= n:\n",
    "    if n % i == 0:\n",
    "        lst.append(i)\n",
    "        if i*i != n:\n",
    "            lst.append(n//i)\n",
    "    i+=1\n",
    "    \n",
    "print(sorted(lst)) "
   ]
  },
  {
   "cell_type": "markdown",
   "metadata": {},
   "source": [
    "### 최대값, 최소값 구하기"
   ]
  },
  {
   "cell_type": "code",
   "execution_count": 7,
   "metadata": {},
   "outputs": [
    {
     "name": "stdout",
     "output_type": "stream",
     "text": [
      "100 1\n"
     ]
    }
   ],
   "source": [
    "# num = list(map(int, input()))\n",
    "\n",
    "lst = [1, 2, 100, 3, 30]\n",
    "\n",
    "max_num = lst[0]\n",
    "min_num = lst[0]\n",
    "\n",
    "for i in lst:\n",
    "    if max_num < i:\n",
    "        max_num = i\n",
    "    if min_num > i:\n",
    "        min_num = i\n",
    "print(max_num, min_num)"
   ]
  },
  {
   "cell_type": "code",
   "execution_count": 24,
   "metadata": {},
   "outputs": [
    {
     "name": "stdout",
     "output_type": "stream",
     "text": [
      "100 1\n"
     ]
    }
   ],
   "source": [
    "lst = [1, 2, 100, 3, 30]\n",
    "lst = sorted(lst)\n",
    "print(lst[-1], lst[0])"
   ]
  }
 ],
 "metadata": {
  "kernelspec": {
   "display_name": "Python 3",
   "language": "python",
   "name": "python3"
  },
  "language_info": {
   "codemirror_mode": {
    "name": "ipython",
    "version": 3
   },
   "file_extension": ".py",
   "mimetype": "text/x-python",
   "name": "python",
   "nbconvert_exporter": "python",
   "pygments_lexer": "ipython3",
   "version": "3.7.6"
  }
 },
 "nbformat": 4,
 "nbformat_minor": 4
}
